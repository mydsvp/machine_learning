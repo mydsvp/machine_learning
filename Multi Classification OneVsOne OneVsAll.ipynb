{
 "cells": [
  {
   "cell_type": "markdown",
   "metadata": {
    "_uuid": "08bfa1a6ca75883690a554f9ca6da270ea74638f"
   },
   "source": [
    "## Multi Class Classification OneVsOne OneVsAll \n",
    "Multi-Class classification strategies **OnevsOne** and **OnevsAll** classifiers\n",
    "\n",
    "### Matthew Yeseta\n",
    "\n",
    "#### Binary Classification:\n",
    "\n",
    "Binary Classification Multi Class Classification is for classifying data into one of two classes.\n",
    "Multi-Class Classification: is for classifying data into one of three or more classes which this python work is for digit recognition (0-9), focus on binary classifiers Logistic Regression, SVM\n",
    "\n",
    "#### Multi-Class Classification Strategies One-vs-One\n",
    "For our Multi-Class Classification Strategies One-vs-One (OvO) Strategy: \n",
    "Key is to train a separate classifier for every pair of classes.\n",
    "For N classes, trains and N(N−1)/2 classifiers. During prediction, each classifier votes for one of the two classes it was trained on, and the class with the most votes is chosen.\n",
    "\n",
    "#### Multi-Class Classification Strategies One-vs-All\n",
    "For our Multi-Class Classification Strategies One-vs-All (OvA) Strategy:\n",
    "Key is the One-vis_Rest for to train one classifier per class, each classifier distinguishes the samples of one class from all other classes. For N classes, trains, N classifiers, during prediction, each classifier provides a confidence score for its class, and the class with the highest score is chosen during prediction.\n",
    "\n",
    "### I. OneVsOne Classifier and OneVsRest Classifiers Analysis \n",
    "\n",
    "### II. SVC RBF kernal OneVsOne Classifier and OneVsRest Classifier Models\n",
    "\n",
    "OvO is computationally expensive, yet has beneficial algorithms for sensitive binay logistic data customer project need decision boundaries between binay classes that exhibit data complexites. OvR is computationally more efficient and widely used, suitable for a broad range of applications. SVM with RBF Kernel can leverage both OvO and OvR strategies for multi-class classification, with the choice depending on computational resources and dataset characteristics. Softmax Regression naturally supports multi-class classification without the need for OvO or OvR, making it a straightforward choice for multi-class problems.\n"
   ]
  },
  {
   "cell_type": "code",
   "execution_count": 1,
   "metadata": {
    "_cell_guid": "b1076dfc-b9ad-4769-8c92-a6c4dae69d19",
    "_uuid": "8f2839f25d086af736a60e9eeb907d3b93b6e0e5",
    "execution": {
     "iopub.execute_input": "2023-03-12T23:11:46.727303Z",
     "iopub.status.busy": "2023-03-12T23:11:46.726851Z",
     "iopub.status.idle": "2023-03-12T23:11:46.746382Z",
     "shell.execute_reply": "2023-03-12T23:11:46.745089Z",
     "shell.execute_reply.started": "2023-03-12T23:11:46.727259Z"
    }
   },
   "outputs": [],
   "source": [
    "import numpy as np \n",
    "import pandas as pd \n",
    "import matplotlib.pyplot as plt\n",
    "\n",
    "from sklearn.linear_model import LogisticRegression\n",
    "from sklearn.multiclass import OneVsOneClassifier, OneVsRestClassifier\n",
    "from sklearn.neighbors import KNeighborsClassifier, NeighborhoodComponentsAnalysis\n",
    "from sklearn.model_selection import RandomizedSearchCV\n",
    "from sklearn import preprocessing\n",
    "from sklearn.model_selection import train_test_split\n",
    "from sklearn.preprocessing import StandardScaler\n",
    "from sklearn.metrics import accuracy_score\n",
    "from sklearn.model_selection import cross_validate, cross_val_score\n",
    "from mlxtend.plotting import plot_decision_regions\n",
    "import os\n",
    "\n",
    "import warnings\n",
    "warnings.filterwarnings(\"ignore\")\n"
   ]
  },
  {
   "cell_type": "code",
   "execution_count": 2,
   "metadata": {},
   "outputs": [],
   "source": [
    "train = pd.read_csv(\"train.csv\")\n",
    "\n",
    "image_Id = np.arange(1, 42000)\n",
    "image_Id = image_Id.reshape(-1, 1)\n",
    "dfImageIds = pd.DataFrame(image_Id.astype('int64'), columns=['ImageId'])\n",
    "train = dfImageIds.join(train)"
   ]
  },
  {
   "cell_type": "code",
   "execution_count": 3,
   "metadata": {},
   "outputs": [],
   "source": [
    "train = train.loc[(train['label'] > 3) & (train['label'] < 6)]\n"
   ]
  },
  {
   "cell_type": "code",
   "execution_count": 4,
   "metadata": {},
   "outputs": [],
   "source": [
    "y = train['label']"
   ]
  },
  {
   "cell_type": "code",
   "execution_count": 5,
   "metadata": {},
   "outputs": [],
   "source": [
    "## split train / test \n",
    "X_train, X_test, y_train, y_test = train_test_split(train, y, test_size=0.60, random_state=42)\n",
    "\n",
    "y = X_train['label']\n",
    "df = X_train.drop(['label'], axis=1)\n"
   ]
  },
  {
   "cell_type": "markdown",
   "metadata": {},
   "source": [
    "\n",
    "## OneVsOne Classifier and OneVsRest Classifiers Analysis \n",
    "Multi-Class Classification Strategies One-vs-One (OvO) Strategy: Key is to train a separate classifier for every pair of classes. For N classes, trains and N(N−1)/2 classifiers. During prediction, each classifier votes for one of the two classes it was trained on, and the class with the most votes is chosen.\n",
    "\n",
    "Multi-Class Classification Strategies One-vs-All (OvA) Strategy: Key is the One-vis_Rest for to train one classifier per class, each classifier distinguishes the samples of one class from all other classes. For N classes, trains, N classifiers, during prediction, each classifier provides a confidence score for its class, and the class with the highest score is chosen during prediction."
   ]
  },
  {
   "cell_type": "code",
   "execution_count": 6,
   "metadata": {},
   "outputs": [
    {
     "data": {
      "text/html": [
       "<div>\n",
       "<style scoped>\n",
       "    .dataframe tbody tr th:only-of-type {\n",
       "        vertical-align: middle;\n",
       "    }\n",
       "\n",
       "    .dataframe tbody tr th {\n",
       "        vertical-align: top;\n",
       "    }\n",
       "\n",
       "    .dataframe thead th {\n",
       "        text-align: right;\n",
       "    }\n",
       "</style>\n",
       "<table border=\"1\" class=\"dataframe\">\n",
       "  <thead>\n",
       "    <tr style=\"text-align: right;\">\n",
       "      <th></th>\n",
       "      <th>count</th>\n",
       "      <th>mean</th>\n",
       "      <th>std</th>\n",
       "      <th>min</th>\n",
       "      <th>25%</th>\n",
       "      <th>50%</th>\n",
       "      <th>75%</th>\n",
       "      <th>max</th>\n",
       "    </tr>\n",
       "  </thead>\n",
       "  <tbody>\n",
       "    <tr>\n",
       "      <th>pixel0</th>\n",
       "      <td>3146.0</td>\n",
       "      <td>0.0</td>\n",
       "      <td>0.0</td>\n",
       "      <td>0.0</td>\n",
       "      <td>0.0</td>\n",
       "      <td>0.0</td>\n",
       "      <td>0.0</td>\n",
       "      <td>0.0</td>\n",
       "    </tr>\n",
       "    <tr>\n",
       "      <th>pixel1</th>\n",
       "      <td>3146.0</td>\n",
       "      <td>0.0</td>\n",
       "      <td>0.0</td>\n",
       "      <td>0.0</td>\n",
       "      <td>0.0</td>\n",
       "      <td>0.0</td>\n",
       "      <td>0.0</td>\n",
       "      <td>0.0</td>\n",
       "    </tr>\n",
       "    <tr>\n",
       "      <th>pixel2</th>\n",
       "      <td>3146.0</td>\n",
       "      <td>0.0</td>\n",
       "      <td>0.0</td>\n",
       "      <td>0.0</td>\n",
       "      <td>0.0</td>\n",
       "      <td>0.0</td>\n",
       "      <td>0.0</td>\n",
       "      <td>0.0</td>\n",
       "    </tr>\n",
       "    <tr>\n",
       "      <th>pixel3</th>\n",
       "      <td>3146.0</td>\n",
       "      <td>0.0</td>\n",
       "      <td>0.0</td>\n",
       "      <td>0.0</td>\n",
       "      <td>0.0</td>\n",
       "      <td>0.0</td>\n",
       "      <td>0.0</td>\n",
       "      <td>0.0</td>\n",
       "    </tr>\n",
       "    <tr>\n",
       "      <th>pixel4</th>\n",
       "      <td>3146.0</td>\n",
       "      <td>0.0</td>\n",
       "      <td>0.0</td>\n",
       "      <td>0.0</td>\n",
       "      <td>0.0</td>\n",
       "      <td>0.0</td>\n",
       "      <td>0.0</td>\n",
       "      <td>0.0</td>\n",
       "    </tr>\n",
       "    <tr>\n",
       "      <th>...</th>\n",
       "      <td>...</td>\n",
       "      <td>...</td>\n",
       "      <td>...</td>\n",
       "      <td>...</td>\n",
       "      <td>...</td>\n",
       "      <td>...</td>\n",
       "      <td>...</td>\n",
       "      <td>...</td>\n",
       "    </tr>\n",
       "    <tr>\n",
       "      <th>pixel779</th>\n",
       "      <td>3146.0</td>\n",
       "      <td>0.0</td>\n",
       "      <td>0.0</td>\n",
       "      <td>0.0</td>\n",
       "      <td>0.0</td>\n",
       "      <td>0.0</td>\n",
       "      <td>0.0</td>\n",
       "      <td>0.0</td>\n",
       "    </tr>\n",
       "    <tr>\n",
       "      <th>pixel780</th>\n",
       "      <td>3146.0</td>\n",
       "      <td>0.0</td>\n",
       "      <td>0.0</td>\n",
       "      <td>0.0</td>\n",
       "      <td>0.0</td>\n",
       "      <td>0.0</td>\n",
       "      <td>0.0</td>\n",
       "      <td>0.0</td>\n",
       "    </tr>\n",
       "    <tr>\n",
       "      <th>pixel781</th>\n",
       "      <td>3146.0</td>\n",
       "      <td>0.0</td>\n",
       "      <td>0.0</td>\n",
       "      <td>0.0</td>\n",
       "      <td>0.0</td>\n",
       "      <td>0.0</td>\n",
       "      <td>0.0</td>\n",
       "      <td>0.0</td>\n",
       "    </tr>\n",
       "    <tr>\n",
       "      <th>pixel782</th>\n",
       "      <td>3146.0</td>\n",
       "      <td>0.0</td>\n",
       "      <td>0.0</td>\n",
       "      <td>0.0</td>\n",
       "      <td>0.0</td>\n",
       "      <td>0.0</td>\n",
       "      <td>0.0</td>\n",
       "      <td>0.0</td>\n",
       "    </tr>\n",
       "    <tr>\n",
       "      <th>pixel783</th>\n",
       "      <td>3146.0</td>\n",
       "      <td>0.0</td>\n",
       "      <td>0.0</td>\n",
       "      <td>0.0</td>\n",
       "      <td>0.0</td>\n",
       "      <td>0.0</td>\n",
       "      <td>0.0</td>\n",
       "      <td>0.0</td>\n",
       "    </tr>\n",
       "  </tbody>\n",
       "</table>\n",
       "<p>784 rows × 8 columns</p>\n",
       "</div>"
      ],
      "text/plain": [
       "           count  mean  std  min  25%  50%  75%  max\n",
       "pixel0    3146.0   0.0  0.0  0.0  0.0  0.0  0.0  0.0\n",
       "pixel1    3146.0   0.0  0.0  0.0  0.0  0.0  0.0  0.0\n",
       "pixel2    3146.0   0.0  0.0  0.0  0.0  0.0  0.0  0.0\n",
       "pixel3    3146.0   0.0  0.0  0.0  0.0  0.0  0.0  0.0\n",
       "pixel4    3146.0   0.0  0.0  0.0  0.0  0.0  0.0  0.0\n",
       "...          ...   ...  ...  ...  ...  ...  ...  ...\n",
       "pixel779  3146.0   0.0  0.0  0.0  0.0  0.0  0.0  0.0\n",
       "pixel780  3146.0   0.0  0.0  0.0  0.0  0.0  0.0  0.0\n",
       "pixel781  3146.0   0.0  0.0  0.0  0.0  0.0  0.0  0.0\n",
       "pixel782  3146.0   0.0  0.0  0.0  0.0  0.0  0.0  0.0\n",
       "pixel783  3146.0   0.0  0.0  0.0  0.0  0.0  0.0  0.0\n",
       "\n",
       "[784 rows x 8 columns]"
      ]
     },
     "execution_count": 6,
     "metadata": {},
     "output_type": "execute_result"
    }
   ],
   "source": [
    "############################\n",
    "## OneVsOne Classifier and OneVsRest Classifiers Analysis \n",
    "############################\n",
    "X_train.shape\n",
    "#Stat Summary\n",
    "X_train.iloc[:, 2:786].describe().transpose()"
   ]
  },
  {
   "cell_type": "code",
   "execution_count": 7,
   "metadata": {
    "execution": {
     "iopub.execute_input": "2023-03-12T23:13:28.639382Z",
     "iopub.status.busy": "2023-03-12T23:13:28.638393Z",
     "iopub.status.idle": "2023-03-12T23:13:28.805865Z",
     "shell.execute_reply": "2023-03-12T23:13:28.804616Z",
     "shell.execute_reply.started": "2023-03-12T23:13:28.639342Z"
    }
   },
   "outputs": [],
   "source": [
    "# Define Logistic Regression model using OneVsOne Classifier and OneVsRest Classifier base models\n",
    "ovr_model = OneVsRestClassifier(LogisticRegression())\n",
    "ovo_model = OneVsOneClassifier(LogisticRegression())\n",
    "\n",
    "# Define common hyperparameters to tune Logistic Regression estimator \n",
    "# The pass-through to Logistic estimator is estimator__\n",
    "param_grid = {\n",
    "    'estimator__max_iter' : [2500, 4500, 6500, 9500, 14000],\n",
    "    'estimator__C': [0.1, 1, 100, 200]\n",
    "}\n",
    "# Tune hyperparameters using GridSearchCV\n",
    "ovr_grid_param = RandomizedSearchCV(ovr_model, param_grid, cv=5, n_jobs=3, error_score=\"raise\")\n",
    "ovo_grid_param = RandomizedSearchCV(ovo_model, param_grid, cv=5, n_jobs=3, error_score=\"raise\")\n",
    "   \n",
    "from sklearn.preprocessing import StandardScaler\n",
    "from sklearn import preprocessing\n",
    "\n",
    "min_max_scaler = preprocessing.MinMaxScaler()\n",
    "X_train_scaled = min_max_scaler.fit_transform(X_train.iloc[:, 2:786])\n",
    "X = X_train.iloc[:, 2:786]"
   ]
  },
  {
   "cell_type": "code",
   "execution_count": 8,
   "metadata": {
    "execution": {
     "iopub.execute_input": "2023-03-12T23:13:39.641742Z",
     "iopub.status.busy": "2023-03-12T23:13:39.641358Z",
     "iopub.status.idle": "2023-03-12T23:19:12.895635Z",
     "shell.execute_reply": "2023-03-12T23:19:12.892713Z",
     "shell.execute_reply.started": "2023-03-12T23:13:39.641707Z"
    }
   },
   "outputs": [
    {
     "name": "stdout",
     "output_type": "stream",
     "text": [
      "\n",
      " OneVsRest Classifier\n",
      "\n",
      " OneVsRest Classifier best estimator across Randomized Search:\n",
      " OneVsRestClassifier(estimator=LogisticRegression(C=0.1, max_iter=14000))\n",
      "\n",
      " OneVsRest Classifier best score across Randomized Search:\n",
      " 0.9882398364751307\n",
      "\n",
      " OneVsRest Classifier best parameters across Randomized Search:\n",
      " {'estimator__max_iter': 14000, 'estimator__C': 0.1}\n"
     ]
    }
   ],
   "source": [
    "# Use the best models to make predictions and evaluate performance\n",
    "\n",
    "ovr_fit = ovr_grid_param.fit(X_train_scaled, y_train) \n",
    "\n",
    "ovo_fit = ovo_grid_param.fit(X_train_scaled, y_train)\n",
    "\n",
    "print(\"\\n OneVsRest Classifier\")\n",
    "print(\"\\n OneVsRest Classifier best estimator across Randomized Search:\\n\", ovr_fit.best_estimator_)\n",
    "print(\"\\n OneVsRest Classifier best score across Randomized Search:\\n\", ovr_fit.best_score_)\n",
    "print(\"\\n OneVsRest Classifier best parameters across Randomized Search:\\n\", ovr_fit.best_params_)\n"
   ]
  },
  {
   "cell_type": "code",
   "execution_count": 9,
   "metadata": {},
   "outputs": [
    {
     "name": "stdout",
     "output_type": "stream",
     "text": [
      "\n",
      " OneVsOne Classifier\n",
      "\n",
      " OneVsOne Classifier best estimator across Randomized Search:\n",
      " OneVsOneClassifier(estimator=LogisticRegression(C=0.1, max_iter=14000))\n",
      "\n",
      " OneVsOne Classifier best score across Randomized Search:\n",
      " 0.9882398364751307\n",
      "\n",
      " OneVsOne Classifier best parameters across Randomized Search:\n",
      " {'estimator__max_iter': 14000, 'estimator__C': 0.1}\n"
     ]
    }
   ],
   "source": [
    "\n",
    "print(\"\\n OneVsOne Classifier\")\n",
    "print(\"\\n OneVsOne Classifier best estimator across Randomized Search:\\n\", ovo_fit.best_estimator_)\n",
    "print(\"\\n OneVsOne Classifier best score across Randomized Search:\\n\", ovo_fit.best_score_)\n",
    "print(\"\\n OneVsOne Classifier best parameters across Randomized Search:\\n\", ovo_fit.best_params_)\n",
    "    \n"
   ]
  },
  {
   "cell_type": "code",
   "execution_count": 10,
   "metadata": {},
   "outputs": [],
   "source": [
    "## execuite best OneVsRest Classifier Randomized Search tuned hyperparameters\n",
    "\n",
    "ovr_model_best = OneVsRestClassifier(LogisticRegression(multi_class='ovr', C=200, max_iter=14000, solver='liblinear'))\n",
    "ovr_model_best_fit = ovr_model_best.fit(X, y_train) \n",
    "ovr_model_best_pred = ovr_model_best_fit.predict(X_test.iloc[:, 2:786])\n",
    "\n",
    "ovr_score = cross_val_score(ovr_model_best, X, y_train, cv=3, scoring=\"accuracy\")"
   ]
  },
  {
   "cell_type": "code",
   "execution_count": 11,
   "metadata": {},
   "outputs": [],
   "source": [
    "## execuite best OneVsOne Classifier Randomized Search tuned hyperparameters\n",
    "\n",
    "ovo_model_best = OneVsOneClassifier(LogisticRegression(multi_class='ovr', C=200, max_iter=6500, solver='liblinear'))\n",
    "ovo_model_best_fit = ovo_model_best.fit(X_train_scaled, y_train)\n",
    "ovo_model_best_pred = ovo_model_best_fit.predict(X_test.iloc[:, 2:786]) \n",
    "\n",
    "ovo_score = cross_val_score(ovo_model_best, X, y_train, cv=3, scoring=\"accuracy\")"
   ]
  },
  {
   "cell_type": "code",
   "execution_count": 12,
   "metadata": {},
   "outputs": [
    {
     "name": "stdout",
     "output_type": "stream",
     "text": [
      "OneVsRestClassifier accuracy: {:.2f}% [98.7607245  98.37940896 99.04580153]\n",
      "OneVsOneClassifier accuracy: {:.2f}% [98.7607245  98.37940896 99.04580153]\n"
     ]
    }
   ],
   "source": [
    "## Score OneVsOne Classifier and OneVsRest Classifiers accuracy\n",
    "print(\"OneVsRestClassifier accuracy: {:.2f}%\", format(ovr_score*100))\n",
    "print(\"OneVsOneClassifier accuracy: {:.2f}%\", format(ovo_score*100))"
   ]
  },
  {
   "cell_type": "markdown",
   "metadata": {},
   "source": [
    "\n",
    "## SVC RBF kernal OneVsOne Classifier and OneVsRest Classifier Models\n",
    "Multi-Class Classification Strategies One-vs-One (OvO) Strategy: Key is to train a separate classifier for every pair of classes. For N classes, trains and N(N−1)/2 classifiers. During prediction, each classifier votes for one of the two classes it was trained on, and the class with the most votes is chosen.\n",
    "\n",
    "Multi-Class Classification Strategies One-vs-All (OvA) Strategy: Key is the One-vis_Rest for to train one classifier per class, each classifier distinguishes the samples of one class from all other classes. For N classes, trains, N classifiers, during prediction, each classifier provides a confidence score for its class, and the class with the highest score is chosen during prediction."
   ]
  },
  {
   "cell_type": "code",
   "execution_count": 13,
   "metadata": {},
   "outputs": [
    {
     "name": "stdout",
     "output_type": "stream",
     "text": [
      "\n",
      " OneVsRest Classifier\n",
      "\n",
      " OneVsRest Classifier RBF SVC best estimator across Randomized Search:\n",
      " OneVsRestClassifier(estimator=SVC(C=1, degree=1))\n",
      "\n",
      " OneVsRest Classifier RBF SVC best score across Randomized Search:\n",
      " 0.9977747495394553\n",
      "\n",
      " OneVsRest Classifier RBF SVC best parameters across Randomized Search:\n",
      " {'estimator__kernel': 'rbf', 'estimator__degree': 1, 'estimator__C': 1}\n"
     ]
    }
   ],
   "source": [
    "from sklearn.svm import SVC\n",
    "\n",
    "# Define SVC RBF using OneVsOne Classifier and OneVsRest Classifier\n",
    "svc_RBF_OVR_model = OneVsRestClassifier(SVC(kernel='rbf'))\n",
    "svc_RBF_OVO_model = OneVsOneClassifier(SVC(kernel='rbf'))\n",
    "\n",
    "# Define common hyperparameters to tune for SVC RBF Kernal estimator\n",
    "# The pass-through to SVC RBF Kernal estimator is estimator__\n",
    "param_grid = {\n",
    "    \"estimator__C\": [1,2,4,8],\n",
    "    \"estimator__kernel\": [\"poly\",\"rbf\"],\n",
    "    \"estimator__degree\":[1, 2, 3, 4]\n",
    "}\n",
    "# Tune the hyperparameters using GridSearchCV\n",
    "svc_RBF_OVR_grid_param = RandomizedSearchCV(svc_RBF_OVR_model, param_grid, cv=5, n_jobs=3, error_score=\"raise\")\n",
    "svc_RBF_OVO_grid_param = RandomizedSearchCV(svc_RBF_OVO_model, param_grid, cv=5, n_jobs=3, error_score=\"raise\")\n",
    "\n",
    "svc_RBF_OVR_model_fit = svc_RBF_OVR_grid_param.fit(X_train_scaled, y_train) \n",
    "svc_RBF_OVO_model_fit = svc_RBF_OVO_grid_param.fit(X_train_scaled, y_train) \n",
    "\n",
    "print(\"\\n OneVsRest Classifier\")\n",
    "print(\"\\n OneVsRest Classifier RBF SVC best estimator across Randomized Search:\\n\", svc_RBF_OVR_model_fit.best_estimator_)\n",
    "print(\"\\n OneVsRest Classifier RBF SVC best score across Randomized Search:\\n\", svc_RBF_OVR_model_fit.best_score_)\n",
    "print(\"\\n OneVsRest Classifier RBF SVC best parameters across Randomized Search:\\n\", svc_RBF_OVR_model_fit.best_params_)\n"
   ]
  },
  {
   "cell_type": "code",
   "execution_count": 14,
   "metadata": {},
   "outputs": [
    {
     "name": "stdout",
     "output_type": "stream",
     "text": [
      "\n",
      " OneVsOne Classifier\n",
      "\n",
      " OneVsOne Classifier RBF SVC best estimator across Randomized Search:\n",
      " OneVsOneClassifier(estimator=SVC(C=1))\n",
      "\n",
      " OneVsOne Classifier RBF SVC best score across Randomized Search:\n",
      " 0.9977747495394553\n",
      "\n",
      " OneVsOne Classifier RBF SVC best parameters across Randomized Search:\n",
      " {'estimator__kernel': 'rbf', 'estimator__degree': 3, 'estimator__C': 1}\n"
     ]
    }
   ],
   "source": [
    "\n",
    "print(\"\\n OneVsOne Classifier\")\n",
    "print(\"\\n OneVsOne Classifier RBF SVC best estimator across Randomized Search:\\n\", svc_RBF_OVO_model_fit.best_estimator_)\n",
    "print(\"\\n OneVsOne Classifier RBF SVC best score across Randomized Search:\\n\", svc_RBF_OVO_model_fit.best_score_)\n",
    "print(\"\\n OneVsOne Classifier RBF SVC best parameters across Randomized Search:\\n\", svc_RBF_OVO_model_fit.best_params_)\n"
   ]
  },
  {
   "cell_type": "code",
   "execution_count": 15,
   "metadata": {},
   "outputs": [],
   "source": [
    "## OneVsRest Classifier SVC model using best parameters\n",
    "svc_RBF_OVR_model_best = OneVsRestClassifier(SVC(kernel='rbf', gamma=\"auto\", C=4, degree=3))\n",
    "svc_RBF_OVR_model_best_fit = svc_RBF_OVR_model_best.fit(X, y_train)\n",
    "svc_RBF_OVR_model_best_pred = svc_RBF_OVR_model_best_fit.predict(X_test.iloc[:, 2:786])\n",
    "\n",
    "svc_RBF_OVR_score = cross_val_score(svc_RBF_OVR_model_best, X, y_train, cv=3, scoring=\"accuracy\")"
   ]
  },
  {
   "cell_type": "code",
   "execution_count": 16,
   "metadata": {},
   "outputs": [],
   "source": [
    "## OneVsRest Classifier SVC model using best parameters\n",
    "svc_RBF_OVO_model_best = OneVsOneClassifier(SVC(kernel='rbf', gamma=\"auto\", C=4, degree=3))\n",
    "svc_RBF_OVO_model_best_fit = svc_RBF_OVO_model_best.fit(X, y_train)\n",
    "svc_RBF_OVO_model_best_pred = svc_RBF_OVO_model_best_fit.predict(X_test.iloc[:, 2:786])\n",
    "\n",
    "svc_RBF_OVO_score = cross_val_score(svc_RBF_OVO_model_best, X, y_train, cv=3, scoring=\"accuracy\")"
   ]
  },
  {
   "cell_type": "code",
   "execution_count": 17,
   "metadata": {},
   "outputs": [
    {
     "name": "stdout",
     "output_type": "stream",
     "text": [
      "OneVsRestClassifier accuracy: {:.2f}% [52.43088656 52.43088656 52.38549618]\n",
      "OneVsOneClassifier accuracy: {:.2f}% [52.43088656 52.43088656 52.38549618]\n"
     ]
    }
   ],
   "source": [
    "## Score neVsOne Classifier and OneVsRest Classifiers accuracy\n",
    "print(\"OneVsRestClassifier accuracy: {:.2f}%\", format(svc_RBF_OVR_score*100))\n",
    "print(\"OneVsOneClassifier accuracy: {:.2f}%\", format(svc_RBF_OVO_score*100))"
   ]
  },
  {
   "cell_type": "markdown",
   "metadata": {},
   "source": [
    "\n",
    "## Softmax Regression MultiNomial OneVsOne Classifier, OneVsRest Classifier base model\n",
    "\n",
    "### Summary\n",
    "\n",
    "1. Softmax Regression An extension of logistic regression for multi-class classification.\n",
    "2. One-vs-One Trains multiple classifiers for each pair of classes.\n",
    "3. One-vs-Rest Trains one classifier per class against all other classes.\n",
    "4. Implementation Using `OneVsOneClassifier` and `OneVsRestClassifier` with Softmax Regression.\n",
    "5. Hyperparameter Tuning**: Use `RandomizedSearchCV` to find the best model parameters.\n",
    "\n",
    "### Softmax Regression (Multinomial Logistic Regression)\n",
    "\n",
    "Softmax regression, a.k.a multinomial logistic regression, logistic regression extension for multiple classes. Ppredicts the probabilities of each class in a multi-class model.\n",
    "\n",
    "### One-vs-One (OvO) and One-vs-Rest (OvR) Strategies with Softmax Regression\n",
    "\n",
    "#### One-vs-One Classifier with Softmax Regression\n",
    "\n",
    "One-vs-One strategy, train a separate classifier is trained for every pair of classes. For dataset with \\(N\\) classes, this results in \\(N(N-1)/2\\) classifiers. During prediction, each classifier votes for one of the two classes it was trained on, and the class with the most votes is chosen.\n",
    "\n",
    "#### One-vs-Rest Classifier with Softmax Regression\n",
    "\n",
    "For One-vs-Rest strategy, train a separate classifier for each class, where the class is distinguished from all other classes. For a dataset with \\(N\\) classes, this results in \\(N\\) classifiers. During prediction, each classifier provides a confidence score for its class, and the class with the highest score is chosen.\n",
    "\n"
   ]
  },
  {
   "cell_type": "code",
   "execution_count": 18,
   "metadata": {},
   "outputs": [],
   "source": [
    "# Softmax Regression MultiNomial OneVsOne Classifier and OneVsRest Classifier base models\n",
    "\n",
    "# Define SVC RBF using OneVsOne Classifier and OneVsRest Classifier\n",
    "ovr_softmax_model = OneVsRestClassifier(LogisticRegression(multi_class = 'multinomial'))\n",
    "ovo_softmax_model = OneVsOneClassifier(LogisticRegression(multi_class = 'multinomial'))\n",
    "\n",
    "# Define common hyperparameters to tune for SVC RBF Kernal estimator\n",
    "# The pass-through to SVC RBF Kernal estimator is estimator__\n",
    "param_grid = {\n",
    "    'estimator__max_iter' : [100, 500, 1000, 1500, 2000, 2500, 3000, 4000, 6500, 9500, 14000],\n",
    "    'estimator__C': [0.1, 1, 2, 3, 5]\n",
    "}\n",
    "# Tune the hyperparameters using GridSearchCV\n",
    "ovr_softmax_grid_param = RandomizedSearchCV(ovr_softmax_model, param_grid, cv=5, n_jobs=3, error_score=\"raise\")\n",
    "ovo_softmax_grid_param = RandomizedSearchCV(ovo_softmax_model, param_grid, cv=5, n_jobs=3, error_score=\"raise\")                                   "
   ]
  },
  {
   "cell_type": "code",
   "execution_count": 19,
   "metadata": {},
   "outputs": [
    {
     "name": "stdout",
     "output_type": "stream",
     "text": [
      "\n",
      " OneVsOne Classifier\n",
      "\n",
      " OneVsRest Classifier Softmax best estimator across Randomized Search:\n",
      " OneVsRestClassifier(estimator=LogisticRegression(C=0.1, max_iter=4000,\n",
      "                                                 multi_class='multinomial'))\n",
      "\n",
      " OneVsRest Classifier Softmax best score across Randomized Search:\n",
      " 0.9888752618164383\n",
      "\n",
      " OneVsRest Classifier Softmax best parameters across Randomized Search:\n",
      " {'estimator__max_iter': 4000, 'estimator__C': 0.1}\n"
     ]
    }
   ],
   "source": [
    "## scores\n",
    "ovr_softmax_model_model_fit = ovr_softmax_grid_param.fit(X_train_scaled, y_train) \n",
    "ovo_softmax_model_model_fit = ovo_softmax_grid_param.fit(X_train_scaled, y_train) \n",
    "\n",
    "print(\"\\n OneVsOne Classifier\")\n",
    "print(\"\\n OneVsRest Classifier Softmax best estimator across Randomized Search:\\n\", ovr_softmax_model_model_fit.best_estimator_)\n",
    "print(\"\\n OneVsRest Classifier Softmax best score across Randomized Search:\\n\", ovr_softmax_model_model_fit.best_score_)\n",
    "print(\"\\n OneVsRest Classifier Softmax best parameters across Randomized Search:\\n\", ovr_softmax_model_model_fit.best_params_)\n"
   ]
  },
  {
   "cell_type": "code",
   "execution_count": 20,
   "metadata": {},
   "outputs": [
    {
     "name": "stdout",
     "output_type": "stream",
     "text": [
      "\n",
      " OneVsOne Classifier\n",
      "\n",
      " OneVsOne Classifier Softmax best estimator across Randomized Search:\n",
      " OneVsOneClassifier(estimator=LogisticRegression(C=0.1, max_iter=4000,\n",
      "                                                multi_class='multinomial'))\n",
      "\n",
      " OneVsOne Classifier Softmax best score across Randomized Search:\n",
      " 0.9888752618164383\n",
      "\n",
      " OneVsOne Classifier Softmax best parameters across Randomized Search:\n",
      " {'estimator__max_iter': 4000, 'estimator__C': 0.1}\n"
     ]
    }
   ],
   "source": [
    "\n",
    "print(\"\\n OneVsOne Classifier\")\n",
    "print(\"\\n OneVsOne Classifier Softmax best estimator across Randomized Search:\\n\", ovo_softmax_grid_param.best_estimator_)\n",
    "print(\"\\n OneVsOne Classifier Softmax best score across Randomized Search:\\n\", ovo_softmax_grid_param.best_score_)\n",
    "print(\"\\n OneVsOne Classifier Softmax best parameters across Randomized Search:\\n\", ovo_softmax_grid_param.best_params_)\n"
   ]
  },
  {
   "cell_type": "code",
   "execution_count": 21,
   "metadata": {},
   "outputs": [],
   "source": [
    "## OneVsRest Classifier LogisticRegression Multinomial softmax model using best parameters\n",
    "ovr_softmax_model_best = OneVsRestClassifier(LogisticRegression(multi_class = 'multinomial', max_iter=4000, C=5))\n",
    "ovr_softmax_model_best_fit = ovr_softmax_model_best.fit(X, y_train)\n",
    "ovr_softmax_model_best_pred = ovr_softmax_model_best_fit.predict(X_test.iloc[:, 2:786])\n",
    "\n",
    "ovr_softmax_score = cross_val_score(ovr_softmax_model_best, X, y_train, cv=3, scoring=\"accuracy\")"
   ]
  },
  {
   "cell_type": "code",
   "execution_count": 22,
   "metadata": {},
   "outputs": [],
   "source": [
    "## OneVsRest Classifier SVC model using best parameters\n",
    "ovo_softmax_model_best = OneVsOneClassifier(LogisticRegression(multi_class = 'multinomial', max_iter=9500, C=5))\n",
    "ovo_softmax_model_best_fit = ovo_softmax_model_best.fit(X, y_train)\n",
    "ovo_softmax_model_best_pred = ovo_softmax_model_best_fit.predict(X_test.iloc[:, 2:786])\n",
    "\n",
    "ovo_softmax_score = cross_val_score(ovo_softmax_model_best, X, y_train, cv=3, scoring=\"accuracy\")"
   ]
  },
  {
   "cell_type": "code",
   "execution_count": 23,
   "metadata": {},
   "outputs": [
    {
     "name": "stdout",
     "output_type": "stream",
     "text": [
      "OneVsRestClassifier accuracy: {:.2f}% [98.85605338 98.37940896 99.14122137]\n",
      "OneVsOneClassifier accuracy: {:.2f}% [98.85605338 98.37940896 99.14122137]\n"
     ]
    }
   ],
   "source": [
    "## Score OneVsOne Classifier and OneVsRest Classifiers accuracy\n",
    "print(\"OneVsRestClassifier accuracy: {:.2f}%\", format(ovr_softmax_score*100))\n",
    "print(\"OneVsOneClassifier accuracy: {:.2f}%\", format(ovo_softmax_score*100))"
   ]
  },
  {
   "cell_type": "code",
   "execution_count": null,
   "metadata": {},
   "outputs": [],
   "source": []
  }
 ],
 "metadata": {
  "kernelspec": {
   "display_name": "Python 3 (ipykernel)",
   "language": "python",
   "name": "python3"
  },
  "language_info": {
   "codemirror_mode": {
    "name": "ipython",
    "version": 3
   },
   "file_extension": ".py",
   "mimetype": "text/x-python",
   "name": "python",
   "nbconvert_exporter": "python",
   "pygments_lexer": "ipython3",
   "version": "3.11.5"
  }
 },
 "nbformat": 4,
 "nbformat_minor": 4
}
