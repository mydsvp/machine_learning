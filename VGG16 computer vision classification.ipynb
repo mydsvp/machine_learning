{
 "cells": [
  {
   "cell_type": "markdown",
   "metadata": {},
   "source": [
    "## Computer Vision using VGG16 CNN architecture model\n",
    "\n",
    "#### Matthew Yeseta, Master Data Science"
   ]
  },
  {
   "cell_type": "code",
   "execution_count": 2,
   "metadata": {},
   "outputs": [
    {
     "name": "stdout",
     "output_type": "stream",
     "text": [
      "Collecting opencv-python\n",
      "  Obtaining dependency information for opencv-python from https://files.pythonhosted.org/packages/c7/ec/9dabb6a9abfdebb3c45b0cc52dec901caafef2b2c7e7d6a839ed86d81e91/opencv_python-4.9.0.80-cp37-abi3-win_amd64.whl.metadata\n",
      "  Downloading opencv_python-4.9.0.80-cp37-abi3-win_amd64.whl.metadata (20 kB)\n",
      "Requirement already satisfied: numpy>=1.21.2 in c:\\users\\matth\\anaconda3\\lib\\site-packages (from opencv-python) (1.24.3)\n",
      "Downloading opencv_python-4.9.0.80-cp37-abi3-win_amd64.whl (38.6 MB)\n",
      "   ---------------------------------------- 0.0/38.6 MB ? eta -:--:--\n",
      "   ---------------------------------------- 0.0/38.6 MB 960.0 kB/s eta 0:00:41\n",
      "   ---------------------------------------- 0.1/38.6 MB 1.4 MB/s eta 0:00:28\n",
      "   ---------------------------------------- 0.3/38.6 MB 2.0 MB/s eta 0:00:20\n",
      "   ---------------------------------------- 0.4/38.6 MB 2.4 MB/s eta 0:00:17\n",
      "    --------------------------------------- 0.6/38.6 MB 2.6 MB/s eta 0:00:15\n",
      "    --------------------------------------- 0.7/38.6 MB 2.6 MB/s eta 0:00:15\n",
      "    --------------------------------------- 0.9/38.6 MB 2.8 MB/s eta 0:00:14\n",
      "    --------------------------------------- 1.0/38.6 MB 2.6 MB/s eta 0:00:15\n",
      "   - -------------------------------------- 1.0/38.6 MB 2.5 MB/s eta 0:00:16\n",
      "   - -------------------------------------- 1.1/38.6 MB 2.5 MB/s eta 0:00:15\n",
      "   - -------------------------------------- 1.2/38.6 MB 2.4 MB/s eta 0:00:16\n",
      "   - -------------------------------------- 1.4/38.6 MB 2.5 MB/s eta 0:00:16\n",
      "   - -------------------------------------- 1.5/38.6 MB 2.4 MB/s eta 0:00:16\n",
      "   - -------------------------------------- 1.7/38.6 MB 2.6 MB/s eta 0:00:15\n",
      "   - -------------------------------------- 1.8/38.6 MB 2.6 MB/s eta 0:00:15\n",
      "   -- ------------------------------------- 1.9/38.6 MB 2.6 MB/s eta 0:00:15\n",
      "   -- ------------------------------------- 2.1/38.6 MB 2.7 MB/s eta 0:00:14\n",
      "   -- ------------------------------------- 2.3/38.6 MB 2.8 MB/s eta 0:00:13\n",
      "   -- ------------------------------------- 2.4/38.6 MB 2.8 MB/s eta 0:00:14\n",
      "   -- ------------------------------------- 2.6/38.6 MB 2.8 MB/s eta 0:00:13\n",
      "   -- ------------------------------------- 2.8/38.6 MB 2.9 MB/s eta 0:00:13\n",
      "   --- ------------------------------------ 3.0/38.6 MB 3.0 MB/s eta 0:00:13\n",
      "   --- ------------------------------------ 3.2/38.6 MB 3.0 MB/s eta 0:00:12\n",
      "   --- ------------------------------------ 3.4/38.6 MB 3.0 MB/s eta 0:00:12\n",
      "   --- ------------------------------------ 3.5/38.6 MB 3.0 MB/s eta 0:00:12\n",
      "   --- ------------------------------------ 3.7/38.6 MB 3.1 MB/s eta 0:00:12\n",
      "   --- ------------------------------------ 3.8/38.6 MB 3.1 MB/s eta 0:00:12\n",
      "   ---- ----------------------------------- 4.0/38.6 MB 3.1 MB/s eta 0:00:12\n",
      "   ---- ----------------------------------- 4.2/38.6 MB 3.1 MB/s eta 0:00:12\n",
      "   ---- ----------------------------------- 4.3/38.6 MB 3.1 MB/s eta 0:00:12\n",
      "   ---- ----------------------------------- 4.5/38.6 MB 3.2 MB/s eta 0:00:11\n",
      "   ---- ----------------------------------- 4.7/38.6 MB 3.2 MB/s eta 0:00:11\n",
      "   ----- ---------------------------------- 4.9/38.6 MB 3.2 MB/s eta 0:00:11\n",
      "   ----- ---------------------------------- 5.1/38.6 MB 3.2 MB/s eta 0:00:11\n",
      "   ----- ---------------------------------- 5.2/38.6 MB 3.2 MB/s eta 0:00:11\n",
      "   ----- ---------------------------------- 5.4/38.6 MB 3.2 MB/s eta 0:00:11\n",
      "   ----- ---------------------------------- 5.5/38.6 MB 3.2 MB/s eta 0:00:11\n",
      "   ----- ---------------------------------- 5.7/38.6 MB 3.3 MB/s eta 0:00:11\n",
      "   ------ --------------------------------- 5.9/38.6 MB 3.3 MB/s eta 0:00:11\n",
      "   ------ --------------------------------- 6.0/38.6 MB 3.3 MB/s eta 0:00:11\n",
      "   ------ --------------------------------- 6.1/38.6 MB 3.2 MB/s eta 0:00:11\n",
      "   ------ --------------------------------- 6.3/38.6 MB 3.2 MB/s eta 0:00:10\n",
      "   ------ --------------------------------- 6.5/38.6 MB 3.2 MB/s eta 0:00:10\n",
      "   ------ --------------------------------- 6.6/38.6 MB 3.3 MB/s eta 0:00:10\n",
      "   ------- -------------------------------- 6.8/38.6 MB 3.3 MB/s eta 0:00:10\n",
      "   ------- -------------------------------- 6.9/38.6 MB 3.3 MB/s eta 0:00:10\n",
      "   ------- -------------------------------- 7.1/38.6 MB 3.3 MB/s eta 0:00:10\n",
      "   ------- -------------------------------- 7.2/38.6 MB 3.3 MB/s eta 0:00:10\n",
      "   ------- -------------------------------- 7.4/38.6 MB 3.3 MB/s eta 0:00:10\n",
      "   ------- -------------------------------- 7.5/38.6 MB 3.2 MB/s eta 0:00:10\n",
      "   ------- -------------------------------- 7.6/38.6 MB 3.2 MB/s eta 0:00:10\n",
      "   -------- ------------------------------- 7.8/38.6 MB 3.2 MB/s eta 0:00:10\n",
      "   -------- ------------------------------- 8.0/38.6 MB 3.3 MB/s eta 0:00:10\n",
      "   -------- ------------------------------- 8.1/38.6 MB 3.2 MB/s eta 0:00:10\n",
      "   -------- ------------------------------- 8.3/38.6 MB 3.3 MB/s eta 0:00:10\n",
      "   -------- ------------------------------- 8.5/38.6 MB 3.3 MB/s eta 0:00:10\n",
      "   -------- ------------------------------- 8.6/38.6 MB 3.3 MB/s eta 0:00:10\n",
      "   --------- ------------------------------ 8.8/38.6 MB 3.3 MB/s eta 0:00:10\n",
      "   --------- ------------------------------ 9.0/38.6 MB 3.3 MB/s eta 0:00:10\n",
      "   --------- ------------------------------ 9.1/38.6 MB 3.3 MB/s eta 0:00:09\n",
      "   --------- ------------------------------ 9.3/38.6 MB 3.3 MB/s eta 0:00:09\n",
      "   --------- ------------------------------ 9.5/38.6 MB 3.3 MB/s eta 0:00:09\n",
      "   --------- ------------------------------ 9.6/38.6 MB 3.3 MB/s eta 0:00:09\n",
      "   ---------- ----------------------------- 9.7/38.6 MB 3.3 MB/s eta 0:00:09\n",
      "   ---------- ----------------------------- 10.0/38.6 MB 3.3 MB/s eta 0:00:09\n",
      "   ---------- ----------------------------- 10.1/38.6 MB 3.3 MB/s eta 0:00:09\n",
      "   ---------- ----------------------------- 10.1/38.6 MB 3.3 MB/s eta 0:00:09\n",
      "   ---------- ----------------------------- 10.1/38.6 MB 3.3 MB/s eta 0:00:09\n",
      "   ---------- ----------------------------- 10.1/38.6 MB 3.3 MB/s eta 0:00:09\n",
      "   ----------- ---------------------------- 10.6/38.6 MB 3.3 MB/s eta 0:00:09\n",
      "   ----------- ---------------------------- 10.6/38.6 MB 3.3 MB/s eta 0:00:09\n",
      "   ----------- ---------------------------- 10.8/38.6 MB 3.3 MB/s eta 0:00:09\n",
      "   ----------- ---------------------------- 10.9/38.6 MB 3.3 MB/s eta 0:00:09\n",
      "   ----------- ---------------------------- 11.1/38.6 MB 3.3 MB/s eta 0:00:09\n",
      "   ----------- ---------------------------- 11.3/38.6 MB 3.4 MB/s eta 0:00:09\n",
      "   ----------- ---------------------------- 11.4/38.6 MB 3.4 MB/s eta 0:00:09\n",
      "   ------------ --------------------------- 11.6/38.6 MB 3.4 MB/s eta 0:00:08\n",
      "   ------------ --------------------------- 11.7/38.6 MB 3.4 MB/s eta 0:00:08\n",
      "   ------------ --------------------------- 11.9/38.6 MB 3.4 MB/s eta 0:00:08\n",
      "   ------------ --------------------------- 12.1/38.6 MB 3.4 MB/s eta 0:00:08\n",
      "   ------------ --------------------------- 12.3/38.6 MB 3.4 MB/s eta 0:00:08\n",
      "   ------------ --------------------------- 12.3/38.6 MB 3.4 MB/s eta 0:00:08\n",
      "   ------------- -------------------------- 12.6/38.6 MB 3.4 MB/s eta 0:00:08\n",
      "   ------------- -------------------------- 12.8/38.6 MB 3.4 MB/s eta 0:00:08\n",
      "   ------------- -------------------------- 13.0/38.6 MB 3.4 MB/s eta 0:00:08\n",
      "   ------------- -------------------------- 13.1/38.6 MB 3.4 MB/s eta 0:00:08\n",
      "   ------------- -------------------------- 13.3/38.6 MB 3.4 MB/s eta 0:00:08\n",
      "   -------------- ------------------------- 13.5/38.6 MB 3.4 MB/s eta 0:00:08\n",
      "   -------------- ------------------------- 13.7/38.6 MB 3.4 MB/s eta 0:00:08\n",
      "   -------------- ------------------------- 13.9/38.6 MB 3.4 MB/s eta 0:00:08\n",
      "   -------------- ------------------------- 14.1/38.6 MB 3.4 MB/s eta 0:00:08\n",
      "   -------------- ------------------------- 14.3/38.6 MB 3.5 MB/s eta 0:00:07\n",
      "   --------------- ------------------------ 14.5/38.6 MB 3.5 MB/s eta 0:00:07\n",
      "   --------------- ------------------------ 14.6/38.6 MB 3.5 MB/s eta 0:00:07\n",
      "   --------------- ------------------------ 14.6/38.6 MB 3.5 MB/s eta 0:00:07\n",
      "   --------------- ------------------------ 14.6/38.6 MB 3.5 MB/s eta 0:00:07\n",
      "   --------------- ------------------------ 15.2/38.6 MB 3.4 MB/s eta 0:00:07\n",
      "   --------------- ------------------------ 15.4/38.6 MB 3.5 MB/s eta 0:00:07\n",
      "   ---------------- ----------------------- 15.6/38.6 MB 3.5 MB/s eta 0:00:07\n",
      "   ---------------- ----------------------- 15.7/38.6 MB 3.4 MB/s eta 0:00:07\n",
      "   ---------------- ----------------------- 15.9/38.6 MB 3.4 MB/s eta 0:00:07\n",
      "   ---------------- ----------------------- 16.0/38.6 MB 3.5 MB/s eta 0:00:07\n",
      "   ---------------- ----------------------- 16.2/38.6 MB 3.5 MB/s eta 0:00:07\n",
      "   ---------------- ----------------------- 16.4/38.6 MB 3.5 MB/s eta 0:00:07\n",
      "   ----------------- ---------------------- 16.6/38.6 MB 3.5 MB/s eta 0:00:07\n",
      "   ----------------- ---------------------- 16.7/38.6 MB 3.5 MB/s eta 0:00:07\n",
      "   ----------------- ---------------------- 16.9/38.6 MB 3.5 MB/s eta 0:00:07\n",
      "   ----------------- ---------------------- 17.0/38.6 MB 3.5 MB/s eta 0:00:07\n",
      "   ----------------- ---------------------- 17.1/38.6 MB 3.5 MB/s eta 0:00:07\n",
      "   ----------------- ---------------------- 17.3/38.6 MB 3.5 MB/s eta 0:00:07\n",
      "   ------------------ --------------------- 17.5/38.6 MB 3.5 MB/s eta 0:00:07\n",
      "   ------------------ --------------------- 17.6/38.6 MB 3.5 MB/s eta 0:00:07\n",
      "   ------------------ --------------------- 17.7/38.6 MB 3.5 MB/s eta 0:00:07\n",
      "   ------------------ --------------------- 17.9/38.6 MB 3.5 MB/s eta 0:00:06\n",
      "   ------------------ --------------------- 18.1/38.6 MB 3.5 MB/s eta 0:00:06\n",
      "   ------------------ --------------------- 18.2/38.6 MB 3.5 MB/s eta 0:00:06\n",
      "   ------------------- -------------------- 18.4/38.6 MB 3.5 MB/s eta 0:00:06\n",
      "   ------------------- -------------------- 18.6/38.6 MB 3.5 MB/s eta 0:00:06\n",
      "   ------------------- -------------------- 18.8/38.6 MB 3.5 MB/s eta 0:00:06\n",
      "   ------------------- -------------------- 18.9/38.6 MB 3.5 MB/s eta 0:00:06\n",
      "   ------------------- -------------------- 19.1/38.6 MB 3.5 MB/s eta 0:00:06\n",
      "   -------------------- ------------------- 19.3/38.6 MB 3.5 MB/s eta 0:00:06\n",
      "   -------------------- ------------------- 19.4/38.6 MB 3.5 MB/s eta 0:00:06\n",
      "   -------------------- ------------------- 19.4/38.6 MB 3.5 MB/s eta 0:00:06\n",
      "   -------------------- ------------------- 19.4/38.6 MB 3.5 MB/s eta 0:00:06\n",
      "   -------------------- ------------------- 19.9/38.6 MB 3.5 MB/s eta 0:00:06\n",
      "   -------------------- ------------------- 20.0/38.6 MB 3.5 MB/s eta 0:00:06\n",
      "   -------------------- ------------------- 20.1/38.6 MB 3.5 MB/s eta 0:00:06\n",
      "   --------------------- ------------------ 20.3/38.6 MB 3.5 MB/s eta 0:00:06\n",
      "   --------------------- ------------------ 20.5/38.6 MB 3.6 MB/s eta 0:00:05\n",
      "   --------------------- ------------------ 20.6/38.6 MB 3.6 MB/s eta 0:00:06\n",
      "   --------------------- ------------------ 20.8/38.6 MB 3.5 MB/s eta 0:00:06\n",
      "   --------------------- ------------------ 21.0/38.6 MB 3.6 MB/s eta 0:00:05\n",
      "   --------------------- ------------------ 21.2/38.6 MB 3.6 MB/s eta 0:00:05\n",
      "   ---------------------- ----------------- 21.4/38.6 MB 3.6 MB/s eta 0:00:05\n",
      "   ---------------------- ----------------- 21.6/38.6 MB 3.6 MB/s eta 0:00:05\n",
      "   ---------------------- ----------------- 21.7/38.6 MB 3.7 MB/s eta 0:00:05\n",
      "   ---------------------- ----------------- 21.9/38.6 MB 3.6 MB/s eta 0:00:05\n",
      "   ---------------------- ----------------- 22.1/38.6 MB 3.6 MB/s eta 0:00:05\n",
      "   ----------------------- ---------------- 22.3/38.6 MB 3.6 MB/s eta 0:00:05\n",
      "   ----------------------- ---------------- 22.5/38.6 MB 3.7 MB/s eta 0:00:05\n",
      "   ----------------------- ---------------- 22.7/38.6 MB 3.7 MB/s eta 0:00:05\n",
      "   ----------------------- ---------------- 22.9/38.6 MB 3.7 MB/s eta 0:00:05\n",
      "   ----------------------- ---------------- 23.1/38.6 MB 3.7 MB/s eta 0:00:05\n",
      "   ------------------------ --------------- 23.2/38.6 MB 3.7 MB/s eta 0:00:05\n",
      "   ------------------------ --------------- 23.5/38.6 MB 3.7 MB/s eta 0:00:05\n",
      "   ------------------------ --------------- 23.7/38.6 MB 3.7 MB/s eta 0:00:05\n",
      "   ------------------------ --------------- 23.9/38.6 MB 3.7 MB/s eta 0:00:04\n",
      "   ------------------------ --------------- 24.1/38.6 MB 3.7 MB/s eta 0:00:04\n",
      "   ------------------------- -------------- 24.2/38.6 MB 3.7 MB/s eta 0:00:04\n",
      "   ------------------------- -------------- 24.4/38.6 MB 3.7 MB/s eta 0:00:04\n",
      "   ------------------------- -------------- 24.6/38.6 MB 3.7 MB/s eta 0:00:04\n",
      "   ------------------------- -------------- 24.8/38.6 MB 3.7 MB/s eta 0:00:04\n",
      "   ------------------------- -------------- 24.9/38.6 MB 3.8 MB/s eta 0:00:04\n",
      "   ------------------------- -------------- 25.1/38.6 MB 3.8 MB/s eta 0:00:04\n",
      "   -------------------------- ------------- 25.3/38.6 MB 3.7 MB/s eta 0:00:04\n",
      "   -------------------------- ------------- 25.4/38.6 MB 3.7 MB/s eta 0:00:04\n",
      "   -------------------------- ------------- 25.6/38.6 MB 3.7 MB/s eta 0:00:04\n",
      "   -------------------------- ------------- 25.7/38.6 MB 3.7 MB/s eta 0:00:04\n",
      "   -------------------------- ------------- 25.9/38.6 MB 3.7 MB/s eta 0:00:04\n",
      "   --------------------------- ------------ 26.1/38.6 MB 3.7 MB/s eta 0:00:04\n",
      "   --------------------------- ------------ 26.3/38.6 MB 3.7 MB/s eta 0:00:04\n",
      "   --------------------------- ------------ 26.5/38.6 MB 3.7 MB/s eta 0:00:04\n",
      "   --------------------------- ------------ 26.7/38.6 MB 3.7 MB/s eta 0:00:04\n",
      "   --------------------------- ------------ 26.8/38.6 MB 3.7 MB/s eta 0:00:04\n",
      "   --------------------------- ------------ 27.0/38.6 MB 3.7 MB/s eta 0:00:04\n",
      "   ---------------------------- ----------- 27.2/38.6 MB 3.7 MB/s eta 0:00:04\n",
      "   ---------------------------- ----------- 27.4/38.6 MB 3.7 MB/s eta 0:00:03\n",
      "   ---------------------------- ----------- 27.5/38.6 MB 3.7 MB/s eta 0:00:03\n",
      "   ---------------------------- ----------- 27.7/38.6 MB 3.7 MB/s eta 0:00:03\n",
      "   ---------------------------- ----------- 27.7/38.6 MB 3.7 MB/s eta 0:00:03\n",
      "   ---------------------------- ----------- 27.9/38.6 MB 3.7 MB/s eta 0:00:03\n",
      "   ----------------------------- ---------- 28.0/38.6 MB 3.7 MB/s eta 0:00:03\n",
      "   ----------------------------- ---------- 28.3/38.6 MB 3.7 MB/s eta 0:00:03\n",
      "   ----------------------------- ---------- 28.5/38.6 MB 3.7 MB/s eta 0:00:03\n",
      "   ----------------------------- ---------- 28.6/38.6 MB 3.7 MB/s eta 0:00:03\n",
      "   ----------------------------- ---------- 28.8/38.6 MB 3.7 MB/s eta 0:00:03\n",
      "   ------------------------------ --------- 29.0/38.6 MB 3.7 MB/s eta 0:00:03\n",
      "   ------------------------------ --------- 29.2/38.6 MB 3.7 MB/s eta 0:00:03\n",
      "   ------------------------------ --------- 29.2/38.6 MB 3.7 MB/s eta 0:00:03\n",
      "   ------------------------------ --------- 29.4/38.6 MB 3.7 MB/s eta 0:00:03\n",
      "   ------------------------------ --------- 29.5/38.6 MB 3.7 MB/s eta 0:00:03\n",
      "   ------------------------------ --------- 29.7/38.6 MB 3.8 MB/s eta 0:00:03\n",
      "   ------------------------------ --------- 29.9/38.6 MB 3.7 MB/s eta 0:00:03\n",
      "   ------------------------------- -------- 30.1/38.6 MB 3.7 MB/s eta 0:00:03\n",
      "   ------------------------------- -------- 30.1/38.6 MB 3.7 MB/s eta 0:00:03\n",
      "   ------------------------------- -------- 30.3/38.6 MB 3.7 MB/s eta 0:00:03\n",
      "   ------------------------------- -------- 30.5/38.6 MB 3.7 MB/s eta 0:00:03\n",
      "   ------------------------------- -------- 30.7/38.6 MB 3.7 MB/s eta 0:00:03\n",
      "   ------------------------------- -------- 30.8/38.6 MB 3.7 MB/s eta 0:00:03\n",
      "   -------------------------------- ------- 31.0/38.6 MB 3.7 MB/s eta 0:00:03\n",
      "   -------------------------------- ------- 31.2/38.6 MB 3.7 MB/s eta 0:00:02\n",
      "   -------------------------------- ------- 31.3/38.6 MB 3.7 MB/s eta 0:00:02\n",
      "   -------------------------------- ------- 31.5/38.6 MB 3.7 MB/s eta 0:00:02\n",
      "   -------------------------------- ------- 31.7/38.6 MB 3.7 MB/s eta 0:00:02\n",
      "   -------------------------------- ------- 31.9/38.6 MB 3.7 MB/s eta 0:00:02\n",
      "   --------------------------------- ------ 32.1/38.6 MB 3.7 MB/s eta 0:00:02\n",
      "   --------------------------------- ------ 32.2/38.6 MB 3.7 MB/s eta 0:00:02\n",
      "   --------------------------------- ------ 32.4/38.6 MB 3.7 MB/s eta 0:00:02\n",
      "   --------------------------------- ------ 32.5/38.6 MB 3.7 MB/s eta 0:00:02\n",
      "   --------------------------------- ------ 32.8/38.6 MB 3.7 MB/s eta 0:00:02\n",
      "   --------------------------------- ------ 32.8/38.6 MB 3.6 MB/s eta 0:00:02\n",
      "   ---------------------------------- ----- 33.0/38.6 MB 3.6 MB/s eta 0:00:02\n",
      "   ---------------------------------- ----- 33.2/38.6 MB 3.6 MB/s eta 0:00:02\n",
      "   ---------------------------------- ----- 33.4/38.6 MB 3.6 MB/s eta 0:00:02\n",
      "   ---------------------------------- ----- 33.6/38.6 MB 3.6 MB/s eta 0:00:02\n",
      "   ---------------------------------- ----- 33.7/38.6 MB 3.6 MB/s eta 0:00:02\n",
      "   ----------------------------------- ---- 33.9/38.6 MB 3.6 MB/s eta 0:00:02\n",
      "   ----------------------------------- ---- 34.1/38.6 MB 3.6 MB/s eta 0:00:02\n",
      "   ----------------------------------- ---- 34.1/38.6 MB 3.6 MB/s eta 0:00:02\n",
      "   ----------------------------------- ---- 34.4/38.6 MB 3.6 MB/s eta 0:00:02\n",
      "   ----------------------------------- ---- 34.5/38.6 MB 3.6 MB/s eta 0:00:02\n",
      "   ----------------------------------- ---- 34.6/38.6 MB 3.6 MB/s eta 0:00:02\n",
      "   ----------------------------------- ---- 34.6/38.6 MB 3.6 MB/s eta 0:00:02\n",
      "   ----------------------------------- ---- 34.6/38.6 MB 3.6 MB/s eta 0:00:02\n",
      "   ------------------------------------ --- 34.8/38.6 MB 3.4 MB/s eta 0:00:02\n",
      "   ------------------------------------ --- 34.8/38.6 MB 3.4 MB/s eta 0:00:02\n",
      "   ------------------------------------ --- 34.8/38.6 MB 3.4 MB/s eta 0:00:02\n",
      "   ------------------------------------ --- 34.8/38.6 MB 3.4 MB/s eta 0:00:02\n",
      "   ------------------------------------ --- 34.9/38.6 MB 3.3 MB/s eta 0:00:02\n",
      "   ------------------------------------ --- 34.9/38.6 MB 3.3 MB/s eta 0:00:02\n",
      "   ------------------------------------ --- 34.9/38.6 MB 3.3 MB/s eta 0:00:02\n",
      "   ------------------------------------ --- 35.0/38.6 MB 3.2 MB/s eta 0:00:02\n",
      "   ------------------------------------ --- 35.1/38.6 MB 3.2 MB/s eta 0:00:02\n",
      "   ------------------------------------ --- 35.2/38.6 MB 3.1 MB/s eta 0:00:02\n",
      "   ------------------------------------ --- 35.2/38.6 MB 3.1 MB/s eta 0:00:02\n",
      "   ------------------------------------ --- 35.3/38.6 MB 3.1 MB/s eta 0:00:02\n",
      "   ------------------------------------ --- 35.4/38.6 MB 3.0 MB/s eta 0:00:02\n",
      "   ------------------------------------ --- 35.5/38.6 MB 3.0 MB/s eta 0:00:02\n",
      "   ------------------------------------ --- 35.5/38.6 MB 3.0 MB/s eta 0:00:02\n",
      "   ------------------------------------ --- 35.5/38.6 MB 3.0 MB/s eta 0:00:02\n",
      "   ------------------------------------ --- 35.5/38.6 MB 3.0 MB/s eta 0:00:02\n",
      "   ------------------------------------ --- 35.7/38.6 MB 2.9 MB/s eta 0:00:02\n",
      "   ------------------------------------- -- 35.7/38.6 MB 2.9 MB/s eta 0:00:01\n",
      "   ------------------------------------- -- 35.8/38.6 MB 2.9 MB/s eta 0:00:01\n",
      "   ------------------------------------- -- 35.8/38.6 MB 2.8 MB/s eta 0:00:01\n",
      "   ------------------------------------- -- 35.9/38.6 MB 2.8 MB/s eta 0:00:01\n",
      "   ------------------------------------- -- 36.1/38.6 MB 2.8 MB/s eta 0:00:01\n",
      "   ------------------------------------- -- 36.2/38.6 MB 2.8 MB/s eta 0:00:01\n",
      "   ------------------------------------- -- 36.3/38.6 MB 2.8 MB/s eta 0:00:01\n",
      "   ------------------------------------- -- 36.4/38.6 MB 2.8 MB/s eta 0:00:01\n",
      "   ------------------------------------- -- 36.5/38.6 MB 2.8 MB/s eta 0:00:01\n",
      "   ------------------------------------- -- 36.6/38.6 MB 2.7 MB/s eta 0:00:01\n",
      "   -------------------------------------- - 36.8/38.6 MB 2.7 MB/s eta 0:00:01\n",
      "   -------------------------------------- - 36.8/38.6 MB 2.7 MB/s eta 0:00:01\n",
      "   -------------------------------------- - 37.0/38.6 MB 2.7 MB/s eta 0:00:01\n",
      "   -------------------------------------- - 37.1/38.6 MB 2.7 MB/s eta 0:00:01\n",
      "   -------------------------------------- - 37.2/38.6 MB 2.7 MB/s eta 0:00:01\n",
      "   -------------------------------------- - 37.3/38.6 MB 2.7 MB/s eta 0:00:01\n",
      "   -------------------------------------- - 37.5/38.6 MB 2.7 MB/s eta 0:00:01\n",
      "   -------------------------------------- - 37.6/38.6 MB 2.7 MB/s eta 0:00:01\n",
      "   ---------------------------------------  37.7/38.6 MB 2.7 MB/s eta 0:00:01\n",
      "   ---------------------------------------  37.8/38.6 MB 2.7 MB/s eta 0:00:01\n",
      "   ---------------------------------------  37.9/38.6 MB 2.6 MB/s eta 0:00:01\n",
      "   ---------------------------------------  38.1/38.6 MB 2.6 MB/s eta 0:00:01\n",
      "   ---------------------------------------  38.2/38.6 MB 2.6 MB/s eta 0:00:01\n",
      "   ---------------------------------------  38.3/38.6 MB 2.6 MB/s eta 0:00:01\n",
      "   ---------------------------------------  38.5/38.6 MB 2.6 MB/s eta 0:00:01\n",
      "   ---------------------------------------  38.6/38.6 MB 2.6 MB/s eta 0:00:01\n",
      "   ---------------------------------------  38.6/38.6 MB 2.6 MB/s eta 0:00:01\n",
      "   ---------------------------------------  38.6/38.6 MB 2.6 MB/s eta 0:00:01\n",
      "   ---------------------------------------- 38.6/38.6 MB 2.5 MB/s eta 0:00:00\n",
      "Installing collected packages: opencv-python\n",
      "Successfully installed opencv-python-4.9.0.80\n"
     ]
    }
   ],
   "source": [
    "!pip install opencv-python"
   ]
  },
  {
   "cell_type": "code",
   "execution_count": null,
   "metadata": {
    "_kg_hide-input": true,
    "execution": {
     "iopub.execute_input": "2022-09-22T23:04:21.562388Z",
     "iopub.status.busy": "2022-09-22T23:04:21.562028Z",
     "iopub.status.idle": "2022-09-22T23:04:26.671776Z",
     "shell.execute_reply": "2022-09-22T23:04:26.670999Z",
     "shell.execute_reply.started": "2022-09-22T23:04:21.562329Z"
    }
   },
   "outputs": [],
   "source": [
    "from IPython.display import clear_output\n",
    "!pip install imutils\n",
    "clear_output()"
   ]
  },
  {
   "cell_type": "code",
   "execution_count": null,
   "metadata": {
    "_cell_guid": "b1076dfc-b9ad-4769-8c92-a6c4dae69d19",
    "_uuid": "8f2839f25d086af736a60e9eeb907d3b93b6e0e5",
    "execution": {
     "iopub.execute_input": "2022-09-22T23:04:26.674523Z",
     "iopub.status.busy": "2022-09-22T23:04:26.674234Z",
     "iopub.status.idle": "2022-09-22T23:04:26.691245Z",
     "shell.execute_reply": "2022-09-22T23:04:26.689991Z",
     "shell.execute_reply.started": "2022-09-22T23:04:26.674475Z"
    }
   },
   "outputs": [],
   "source": [
    "import numpy as np \n",
    "import warnings\n",
    "from tqdm import tqdm\n",
    "import sys\n",
    "import cv2\n",
    "import os\n",
    "from os import listdir\n",
    "from os.path import isfile, join\n",
    "import shutil\n",
    "import itertools\n",
    "from itertools import chain\n",
    "import imutils\n",
    "import matplotlib.pyplot as plt\n",
    "import numpy as np \n",
    "from numpy import expand_dims\n",
    "import pandas as pd \n",
    "import math\n",
    "import seaborn as sns\n",
    "import umap\n",
    "from PIL import Image\n",
    "from scipy import misc\n",
    "from scipy import misc\n",
    "from random import shuffle\n",
    "from collections import Counter\n",
    "from matplotlib import pyplot \n",
    "\n",
    "\n",
    "from sklearn.preprocessing import LabelBinarizer\n",
    "from sklearn.model_selection import train_test_split\n",
    "from sklearn.metrics import accuracy_score, confusion_matrix, recall_score, f1_score, cohen_kappa_score, roc_auc_score\n",
    "from sklearn.decomposition import PCA\n",
    "from sklearn.manifold import TSNE\n",
    "from sklearn.datasets import make_circles\n",
    "\n",
    "import plotly.graph_objs as go\n",
    "from plotly.offline import init_notebook_mode, iplot\n",
    "from plotly import tools\n",
    "\n",
    "import keras\n",
    "from keras import backend as K\n",
    "from keras import layers\n",
    "from keras.layers import Input\n",
    "from keras.layers.core import Dropout, Lambda\n",
    "from keras.layers.convolutional import Conv2D, MaxPooling2D, Conv2DTranspose\n",
    "from keras.layers.pooling import MaxPooling2D\n",
    "from keras.layers.merge import concatenate\n",
    "from keras.layers import Input, Activation, Dropout, Flatten, Dense\n",
    "from keras.models import Model, Sequential, load_model\n",
    "from keras.optimizers import Adam, RMSprop\n",
    "from keras.callbacks import EarlyStopping, ModelCheckpoint\n",
    "\n",
    "from keras.applications.vgg16 import VGG16, preprocess_input\n",
    "from keras.applications.vgg16 import preprocess_input\n",
    "\n",
    "from keras.preprocessing.image import ImageDataGenerator\n",
    "from keras.preprocessing.image import load_img\n",
    "from keras.preprocessing.image import img_to_array\n",
    "from keras.models import Model\n",
    "from keras.utils.np_utils import to_categorical\n",
    "\n",
    "from skimage.io import imread, imshow, imread_collection, concatenate_images\n",
    "from skimage.transform import resize\n",
    "from skimage.morphology import label\n",
    "\n",
    "import tensorflow as tf\n",
    "\n",
    "init_notebook_mode(connected=True)\n",
    "RANDOM_SEED = 123"
   ]
  },
  {
   "cell_type": "code",
   "execution_count": null,
   "metadata": {},
   "outputs": [],
   "source": []
  },
  {
   "cell_type": "code",
   "execution_count": null,
   "metadata": {
    "_kg_hide-input": true,
    "execution": {
     "iopub.execute_input": "2022-09-22T23:04:26.693574Z",
     "iopub.status.busy": "2022-09-22T23:04:26.693093Z",
     "iopub.status.idle": "2022-09-22T23:04:30.381273Z",
     "shell.execute_reply": "2022-09-22T23:04:30.380295Z",
     "shell.execute_reply.started": "2022-09-22T23:04:26.693352Z"
    }
   },
   "outputs": [],
   "source": [
    "!apt-get install tree\n",
    "!mkdir TRAIN TEST VAL TRAIN/YES TRAIN/NO TEST/YES TEST/NO VAL/YES VAL/NO\n",
    "!tree -d"
   ]
  },
  {
   "cell_type": "code",
   "execution_count": null,
   "metadata": {
    "execution": {
     "iopub.execute_input": "2022-09-22T23:04:30.384637Z",
     "iopub.status.busy": "2022-09-22T23:04:30.384375Z",
     "iopub.status.idle": "2022-09-22T23:04:30.625533Z",
     "shell.execute_reply": "2022-09-22T23:04:30.624596Z",
     "shell.execute_reply.started": "2022-09-22T23:04:30.384587Z"
    }
   },
   "outputs": [],
   "source": [
    "IMG_PATH = '../input/brain-mri-images-for-brain-tumor-detection/brain_tumor_dataset/'\n",
    "\n",
    "for CLASS in os.listdir(IMG_PATH):\n",
    "    if not CLASS.startswith('.'):\n",
    "        IMG_NUM = len(os.listdir(IMG_PATH + CLASS))\n",
    "        for (n, FILE_NAME) in enumerate(os.listdir(IMG_PATH + CLASS)):\n",
    "            img = IMG_PATH + CLASS + '/' + FILE_NAME\n",
    "            if n < 0.8*IMG_NUM:\n",
    "                shutil.copy(img, 'TRAIN/'+ CLASS.upper() + '/' + FILE_NAME)\n",
    "            elif n < 5:\n",
    "                shutil.copy(img, 'TEST/' + CLASS.upper() + '/' + FILE_NAME)\n",
    "            else:\n",
    "                shutil.copy(img, 'VAL/'+ CLASS.upper() + '/' + FILE_NAME)"
   ]
  },
  {
   "cell_type": "code",
   "execution_count": null,
   "metadata": {
    "_cell_guid": "79c7e3d0-c299-4dcb-8224-4455121ee9b0",
    "_kg_hide-input": true,
    "_uuid": "d629ff2d2480ee46fbb7e2d37f6b5fab8052498a",
    "execution": {
     "iopub.execute_input": "2022-09-22T23:04:30.629772Z",
     "iopub.status.busy": "2022-09-22T23:04:30.629441Z",
     "iopub.status.idle": "2022-09-22T23:04:30.647173Z",
     "shell.execute_reply": "2022-09-22T23:04:30.645982Z",
     "shell.execute_reply.started": "2022-09-22T23:04:30.629708Z"
    }
   },
   "outputs": [],
   "source": [
    "def load_data(dir_path, img_size=(100,100)):\n",
    "    x_data = []\n",
    "    y_data = []\n",
    "    i = 0\n",
    "    labels = dict()\n",
    "    for path in tqdm(sorted(os.listdir(dir_path))):\n",
    "        if not path.startswith('.'):\n",
    "            labels[i] = path\n",
    "            for file in os.listdir(dir_path + path):\n",
    "                if not file.startswith('.'):\n",
    "                    img = cv2.imread(dir_path + path + '/' + file)\n",
    "                    X.append(img)\n",
    "                    y.append(i)\n",
    "            i += 1\n",
    "    X = np.array(x_data)\n",
    "    y = np.array(y_data)\n",
    "    print(f'{len(X)} images loaded from {dir_path} directory.')\n",
    "    return X, y, labels\n",
    "\n",
    "\n",
    "\n",
    "def plot_confusion_matrix(cm, classes,\n",
    "                          normalize=False,\n",
    "                          title='Confusion matrix',\n",
    "                          cmap=plt.cm.Blues):\n",
    "\n",
    "    plt.figure(figsize = (6,6))\n",
    "    plt.imshow(cm, interpolation='nearest', cmap=cmap)\n",
    "    plt.title(title)\n",
    "    plt.colorbar()\n",
    "    tick_marks = np.arange(len(classes))\n",
    "    plt.xticks(tick_marks, classes, rotation=90)\n",
    "    plt.yticks(tick_marks, classes)\n",
    "    if normalize:\n",
    "        cmatrix = cm.astype('float') / cmatrix.sum(axis=1)[:, np.newaxis]\n",
    "\n",
    "    cmatrix = np.round(cmatrix,2)\n",
    "    thresh = cmatrix.max() / 2.\n",
    "    for i, j in itertools.product(range(cmatrix.shape[0]), range(cmatrix.shape[1])):\n",
    "        plt.text(j, i, cmatrix[i, j],\n",
    "                 horizontalalignment=\"center\",\n",
    "                 color=\"white\" if cmatrix[i, j] > thresh else \"black\")\n",
    "    plt.tight_layout()\n",
    "    plt.ylabel('True label')\n",
    "    plt.xlabel('Predicted label')\n",
    "    plt.show()"
   ]
  },
  {
   "cell_type": "code",
   "execution_count": null,
   "metadata": {
    "_kg_hide-input": true,
    "execution": {
     "iopub.execute_input": "2022-09-22T23:04:30.651489Z",
     "iopub.status.busy": "2022-09-22T23:04:30.650993Z",
     "iopub.status.idle": "2022-09-22T23:04:30.663395Z",
     "shell.execute_reply": "2022-09-22T23:04:30.662180Z",
     "shell.execute_reply.started": "2022-09-22T23:04:30.651287Z"
    }
   },
   "outputs": [],
   "source": [
    "def crop_imgs(set_name, add_pixels_value=0):\n",
    "\n",
    "    set_new = []\n",
    "    for img in set_name:\n",
    "        gray = cv2.cvtColor(img, cv2.COLOR_RGB2GRAY); gray = cv2.GaussianBlur(gray, (5, 5), 0)\n",
    "\n",
    "        img_thresh = cv2.threshold(gray, \n",
    "                               45, 255, \n",
    "                               cv2.THRESH_BINARY)[1]\n",
    "        cv_thresh = cv2.erode(img_thresh, None, iterations=2)\n",
    "        cv_thresh = cv2.dilate(img_thresh, None, iterations=2)\n",
    "        cnts = cv2.findContours(cv_thresh.copy(), cv2.RETR_EXTERNAL, cv2.CHAIN_APPROX_SIMPLE)\n",
    "        cnts = imutils.grab_contours(cnts)\n",
    "        cnts_C = max(cnts, key=cv2.contourArea)\n",
    "        extLeft = tuple(cnts_C[cnts_C[:, :, 0].argmin()][0]); extRight = tuple(cnts_C[cnts_C[:, :, 0].argmax()][0])\n",
    "        extTop = tuple(cnts_C[cnts_C[:, :, 1].argmin()][0]); extBot = tuple(cnts_C[cnts_C[:, :, 1].argmax()][0])\n",
    "\n",
    "        ADD_PIXELS = add_pixels_value\n",
    "        new_img = img[extTop[1]-ADD_PIXELS:extBot[1]+ADD_PIXELS, extLeft[0]-ADD_PIXELS:extRight[0]+ADD_PIXELS].copy()\n",
    "        set_new.append(new_img)\n",
    "\n",
    "    return np.array(set_new)"
   ]
  },
  {
   "cell_type": "code",
   "execution_count": null,
   "metadata": {
    "_kg_hide-input": true,
    "execution": {
     "iopub.execute_input": "2022-09-22T23:04:30.665708Z",
     "iopub.status.busy": "2022-09-22T23:04:30.665135Z",
     "iopub.status.idle": "2022-09-22T23:04:30.704938Z",
     "shell.execute_reply": "2022-09-22T23:04:30.704152Z",
     "shell.execute_reply.started": "2022-09-22T23:04:30.665462Z"
    }
   },
   "outputs": [],
   "source": [
    "img = cv2.imread('../input/brain-mri-images-for-brain-tumor-detection/brain_tumor_dataset/yes/Y108.jpg')\n",
    "img = cv2.resize(\n",
    "            img,\n",
    "            dsize=(224,224),\n",
    "            interpolation=cv2.INTER_CUBIC\n",
    "        )\n",
    "gray = cv2.cvtColor(img, cv2.COLOR_RGB2GRAY)\n",
    "gray = cv2.GaussianBlur(gray, (5, 5), 0)\n",
    "\n",
    "img_thresh = cv2.threshold(gray, \n",
    "                       45, 255, \n",
    "                       cv2.THRESH_BINARY)[1]\n",
    "cv_thresh = cv2.erode(img_thresh, None, iterations=2)\n",
    "cv_thresh = cv2.dilate(img_thresh, None, iterations=2)\n",
    "\n",
    "cnts = cv2.findContours(cv_thresh.copy(), cv2.RETR_EXTERNAL, cv2.CHAIN_APPROX_SIMPLE)\n",
    "cnts = imutils.grab_contours(cnts)\n",
    "cnts_C = max(cnts, key=cv2.contourArea)\n",
    "extLeft = tuple(cnts_C[cnts_C[:, :, 0].argmin()][0]); extRight = tuple(cnts_C[cnts_C[:, :, 0].argmax()][0])\n",
    "extTop = tuple(cnts_C[cnts_C[:, :, 1].argmin()][0]); extBot = tuple(cnts_C[cnts_C[:, :, 1].argmax()][0])\n",
    "img_cnt = cv2.drawContours(img.copy(), [cnts_C], -1, (0, 255, 255), 4)\n",
    "img_pnt = cv2.circle(img_cnt.copy(), extLeft, 8, (0, 0, 255), -1)\n",
    "img_pnt = cv2.circle(img_pnt, extRight, 8, (0, 255, 0), -1)\n",
    "img_pnt = cv2.circle(img_pnt, extTop, 8, (255, 0, 0), -1)\n",
    "img_pnt = cv2.circle(img_pnt, extBot, 8, (255, 255, 0), -1)\n",
    "\n",
    "\n",
    "ADD_PIXELS = 0\n",
    "new_img = img[extTop[1]-ADD_PIXELS:extBot[1]+ADD_PIXELS, extLeft[0]-ADD_PIXELS:extRight[0]+ADD_PIXELS].copy()"
   ]
  },
  {
   "cell_type": "code",
   "execution_count": null,
   "metadata": {
    "execution": {
     "iopub.execute_input": "2022-09-22T23:04:30.707050Z",
     "iopub.status.busy": "2022-09-22T23:04:30.706542Z",
     "iopub.status.idle": "2022-09-22T23:04:30.713366Z",
     "shell.execute_reply": "2022-09-22T23:04:30.712209Z",
     "shell.execute_reply.started": "2022-09-22T23:04:30.706813Z"
    }
   },
   "outputs": [],
   "source": [
    "def preprocess_imgs(set_name, img_size):\n",
    "\n",
    "    set_new = []\n",
    "    for img in set_name:\n",
    "        img = cv2.resize(\n",
    "            img,\n",
    "            dsize=img_size,\n",
    "            interpolation=cv2.INTER_CUBIC\n",
    "        )\n",
    "        set_new.append(preprocess_input(img))\n",
    "    return np.array(set_new)"
   ]
  },
  {
   "cell_type": "code",
   "execution_count": null,
   "metadata": {
    "execution": {
     "iopub.execute_input": "2022-09-22T23:04:30.715418Z",
     "iopub.status.busy": "2022-09-22T23:04:30.714916Z",
     "iopub.status.idle": "2022-09-22T23:04:32.881130Z",
     "shell.execute_reply": "2022-09-22T23:04:32.880211Z",
     "shell.execute_reply.started": "2022-09-22T23:04:30.715284Z"
    }
   },
   "outputs": [],
   "source": [
    "TRAIN_DIR = 'TRAIN/'\n",
    "TEST_DIR = 'TEST/'\n",
    "VAL_DIR = 'VAL/'\n",
    "\n",
    "X_train, y_train, labels = load_data(TRAIN_DIR, (224,224))\n",
    "X_test, y_test, _ = load_data(TEST_DIR, (224,224))\n",
    "X_val, y_val, _ = load_data(VAL_DIR, (224,224))\n",
    "\n",
    "X_train_crop = crop_imgs(set_name=X_train)\n",
    "X_val_crop = crop_imgs(set_name=X_val)\n",
    "X_test_crop = crop_imgs(set_name=X_test)\n",
    "\n",
    "X_train_prep = preprocess_imgs(set_name=X_train_crop, img_size=(224,224))\n",
    "X_test_prep = preprocess_imgs(set_name=X_test_crop, img_size=(224,224))\n",
    "X_val_prep = preprocess_imgs(set_name=X_val_crop, img_size=(224,224))\n",
    "\n",
    "!mkdir TRAIN_CROP TEST_CROP VAL_CROP TRAIN_CROP/YES TRAIN_CROP/NO TEST_CROP/YES TEST_CROP/NO VAL_CROP/YES VAL_CROP/NO\n"
   ]
  },
  {
   "cell_type": "code",
   "execution_count": null,
   "metadata": {
    "_kg_hide-input": true,
    "execution": {
     "iopub.execute_input": "2022-09-22T23:04:32.884984Z",
     "iopub.status.busy": "2022-09-22T23:04:32.884682Z",
     "iopub.status.idle": "2022-09-22T23:04:32.891300Z",
     "shell.execute_reply": "2022-09-22T23:04:32.890510Z",
     "shell.execute_reply.started": "2022-09-22T23:04:32.884922Z"
    }
   },
   "outputs": [],
   "source": [
    "def save_new_images(x_set, y_set, folder_name):\n",
    "    i = 0\n",
    "    for (img, imclass) in zip(x_set, y_set):\n",
    "        if imclass == 0:\n",
    "            cv2.imwrite(folder_name+'NO/'+str(i)+'.jpg', img)\n",
    "        else:\n",
    "            cv2.imwrite(folder_name+'YES/'+str(i)+'.jpg', img)\n",
    "        i += 1"
   ]
  },
  {
   "cell_type": "code",
   "execution_count": null,
   "metadata": {
    "_kg_hide-input": true,
    "execution": {
     "iopub.execute_input": "2022-09-22T23:04:32.893314Z",
     "iopub.status.busy": "2022-09-22T23:04:32.892826Z",
     "iopub.status.idle": "2022-09-22T23:04:33.228049Z",
     "shell.execute_reply": "2022-09-22T23:04:33.227220Z",
     "shell.execute_reply.started": "2022-09-22T23:04:32.893267Z"
    }
   },
   "outputs": [],
   "source": [
    "save_new_images(X_train_crop, y_train, folder_name='TRAIN_CROP/')\n",
    "save_new_images(X_val_crop, y_val, folder_name='VAL_CROP/')\n",
    "save_new_images(X_test_crop, y_test, folder_name='TEST_CROP/')"
   ]
  },
  {
   "cell_type": "code",
   "execution_count": null,
   "metadata": {
    "execution": {
     "iopub.execute_input": "2022-09-22T23:04:33.229890Z",
     "iopub.status.busy": "2022-09-22T23:04:33.229575Z",
     "iopub.status.idle": "2022-09-22T23:04:33.235459Z",
     "shell.execute_reply": "2022-09-22T23:04:33.234563Z",
     "shell.execute_reply.started": "2022-09-22T23:04:33.229843Z"
    }
   },
   "outputs": [],
   "source": [
    "\n",
    "generator_datagen = ImageDataGenerator(\n",
    "    rotation_range=15,\n",
    "    width_shift_range=0.05,\n",
    "    height_shift_range=0.05,\n",
    "    rescale=1./255,\n",
    "    shear_range=0.05,\n",
    "    brightness_range=[0.1, 1.5],\n",
    "    horizontal_flip=True,\n",
    "    vertical_flip=True\n",
    ")"
   ]
  },
  {
   "cell_type": "code",
   "execution_count": null,
   "metadata": {
    "_kg_hide-input": true,
    "execution": {
     "iopub.execute_input": "2022-09-22T23:04:33.236904Z",
     "iopub.status.busy": "2022-09-22T23:04:33.236606Z",
     "iopub.status.idle": "2022-09-22T23:04:33.817175Z",
     "shell.execute_reply": "2022-09-22T23:04:33.816184Z",
     "shell.execute_reply.started": "2022-09-22T23:04:33.236860Z"
    }
   },
   "outputs": [],
   "source": [
    "\n",
    "x = X_train_crop[0]  \n",
    "x = x.reshape((1,) + x.shape) \n",
    "\n",
    "i = 0\n",
    "for batch in generator_datagen.flow(x, batch_size=1, save_to_dir='preview', save_prefix='aug_img', save_format='jpg'):\n",
    "    i += 1\n",
    "    if i > 20:\n",
    "        break "
   ]
  },
  {
   "cell_type": "code",
   "execution_count": null,
   "metadata": {
    "_kg_hide-input": true,
    "execution": {
     "iopub.execute_input": "2022-09-22T23:04:33.818839Z",
     "iopub.status.busy": "2022-09-22T23:04:33.818550Z",
     "iopub.status.idle": "2022-09-22T23:04:35.503896Z",
     "shell.execute_reply": "2022-09-22T23:04:35.503238Z",
     "shell.execute_reply.started": "2022-09-22T23:04:33.818790Z"
    }
   },
   "outputs": [],
   "source": [
    "plt.imshow(X_train_crop[0])\n",
    "plt.xticks([])\n",
    "plt.yticks([])\n",
    "plt.title('Original Image')\n",
    "plt.show()\n",
    "\n",
    "plt.figure(figsize=(15,6))\n",
    "i = 1\n",
    "for img in os.listdir('preview/'):\n",
    "    img = cv2.cv2.imread('preview/' + img)\n",
    "    img = cv2.cvtColor(img, cv2.COLOR_BGR2RGB)\n",
    "    plt.subplot(3,7,i)\n",
    "    plt.imshow(img)\n",
    "    plt.xticks([])\n",
    "    plt.yticks([])\n",
    "    i += 1\n",
    "    if i > 3*7:\n",
    "        break\n",
    "plt.suptitle('Augemented Images')\n",
    "plt.show()"
   ]
  },
  {
   "cell_type": "code",
   "execution_count": null,
   "metadata": {
    "_kg_hide-input": true
   },
   "outputs": [],
   "source": []
  },
  {
   "cell_type": "code",
   "execution_count": null,
   "metadata": {
    "execution": {
     "iopub.execute_input": "2022-09-22T23:04:35.505598Z",
     "iopub.status.busy": "2022-09-22T23:04:35.505162Z",
     "iopub.status.idle": "2022-09-22T23:04:35.717978Z",
     "shell.execute_reply": "2022-09-22T23:04:35.717132Z",
     "shell.execute_reply.started": "2022-09-22T23:04:35.505554Z"
    }
   },
   "outputs": [],
   "source": [
    "TRAIN_DIR = 'TRAIN_CROP/'\n",
    "VAL_DIR = 'VAL_CROP/'\n",
    "\n",
    "train_datagen = ImageDataGenerator(\n",
    "    rotation_range=15,\n",
    "    width_shift_range=0.1,\n",
    "    height_shift_range=0.1,\n",
    "    shear_range=0.1,\n",
    "    brightness_range=[0.5, 1.5],\n",
    "    horizontal_flip=True,\n",
    "    vertical_flip=True,\n",
    "    preprocessing_function=preprocess_input\n",
    ")\n",
    "\n",
    "test_datagen = ImageDataGenerator(\n",
    "    preprocessing_function=preprocess_input\n",
    ")\n",
    "\n",
    "train_generator = train_datagen.flow_from_directory(\n",
    "    TRAIN_DIR,\n",
    "    color_mode='rgb',\n",
    "    target_size=(224,224),\n",
    "    batch_size=32,\n",
    "    class_mode='binary',\n",
    "    seed=RANDOM_SEED\n",
    ")\n",
    "\n",
    "validation_generator = test_datagen.flow_from_directory(\n",
    "    VAL_DIR,\n",
    "    color_mode='rgb',\n",
    "    target_size=(224,224),\n",
    "    batch_size=16,\n",
    "    class_mode='binary',\n",
    "    seed=RANDOM_SEED\n",
    ")"
   ]
  },
  {
   "cell_type": "code",
   "execution_count": null,
   "metadata": {
    "execution": {
     "iopub.execute_input": "2022-09-22T23:04:35.719375Z",
     "iopub.status.busy": "2022-09-22T23:04:35.719092Z",
     "iopub.status.idle": "2022-09-22T23:04:37.411137Z",
     "shell.execute_reply": "2022-09-22T23:04:37.410327Z",
     "shell.execute_reply.started": "2022-09-22T23:04:35.719339Z"
    }
   },
   "outputs": [],
   "source": [
    "\n",
    "vgg16_weight_path = '../input/keras-pretrained-models/vgg16_weights_tf_dim_ordering_tf_kernels_notop.h5'\n",
    "vgg = VGG16(\n",
    "    weights=vgg16_weight_path,\n",
    "    include_top=False, \n",
    "    input_shape=(224,224) + (3,)\n",
    ")"
   ]
  },
  {
   "cell_type": "code",
   "execution_count": null,
   "metadata": {
    "execution": {
     "iopub.execute_input": "2022-09-22T23:04:37.415097Z",
     "iopub.status.busy": "2022-09-22T23:04:37.414851Z",
     "iopub.status.idle": "2022-09-22T23:04:42.594491Z",
     "shell.execute_reply": "2022-09-22T23:04:42.593787Z",
     "shell.execute_reply.started": "2022-09-22T23:04:37.415049Z"
    }
   },
   "outputs": [],
   "source": [
    "f = plt.figure(figsize=(16,16))\n",
    "\n",
    "model = VGG16()\n",
    "\n",
    "model = Model(inputs=model.inputs, outputs=model.layers[1].output)\n",
    "model.summary()\n",
    "img = img_to_array(X_val_prep[43])\n",
    "img = expand_dims(img, axis=0)\n",
    "img = preprocess_input(img)\n",
    "feature_maps = model.predict(img)\n",
    "square = 8\n",
    "ix = 1\n",
    "\n",
    "for _ in range(square):\n",
    "    for _ in range(square):\n",
    "        ax = pyplot.subplot(square, square, ix)\n",
    "        ax.set_xticks([])\n",
    "        ax.set_yticks([])\n",
    "        pyplot.imshow(feature_maps[0, :, :, ix-1], cmap='viridis')\n",
    "        ix += 1\n",
    "\n",
    "pyplot.show()\n"
   ]
  },
  {
   "cell_type": "code",
   "execution_count": null,
   "metadata": {
    "execution": {
     "iopub.execute_input": "2022-09-22T23:04:42.595969Z",
     "iopub.status.busy": "2022-09-22T23:04:42.595610Z",
     "iopub.status.idle": "2022-09-22T23:04:42.769946Z",
     "shell.execute_reply": "2022-09-22T23:04:42.769132Z",
     "shell.execute_reply.started": "2022-09-22T23:04:42.595929Z"
    }
   },
   "outputs": [],
   "source": [
    "\n",
    "NUM_CLASSES = 1\n",
    "\n",
    "vgg16 = Sequential()\n",
    "vgg16.add(vgg)\n",
    "vgg16.add(layers.Dropout(0.3))\n",
    "vgg16.add(layers.Flatten())\n",
    "vgg16.add(layers.Dropout(0.5))\n",
    "vgg16.add(layers.Dense(NUM_CLASSES, activation='sigmoid'))\n",
    "\n",
    "vgg16.layers[0].trainable = False\n",
    "\n",
    "vgg16.compile(\n",
    "    loss='binary_crossentropy',\n",
    "    optimizer=RMSprop(lr=1e-4),\n",
    "    metrics=['accuracy']\n",
    ")\n",
    "vgg16.compile(loss='binary_crossentropy', optimizer=keras.optimizers.Adam(lr=0.0003, beta_1=0.9, beta_2=0.999, epsilon=None, decay=0.0, amsgrad=False), metrics=[\"accuracy\"])\n",
    "\n",
    "vgg16.summary()"
   ]
  },
  {
   "cell_type": "code",
   "execution_count": null,
   "metadata": {
    "execution": {
     "iopub.execute_input": "2022-09-22T23:04:42.771995Z",
     "iopub.status.busy": "2022-09-22T23:04:42.771543Z",
     "iopub.status.idle": "2022-09-22T23:05:58.985905Z",
     "shell.execute_reply": "2022-09-22T23:05:58.985144Z",
     "shell.execute_reply.started": "2022-09-22T23:04:42.771942Z"
    }
   },
   "outputs": [],
   "source": [
    "plt.rcParams.update({'figure.max_open_warning': 0})\n",
    "model = VGG16()\n",
    "\n",
    "ixs = [2, 5, 9, 13, 17]\n",
    "outputs = [model.layers[i].output for i in ixs]\n",
    "model = Model(inputs=model.inputs, outputs=outputs)\n",
    "\n",
    "img = img_to_array(X_val_prep[43])\n",
    "img = expand_dims(img, axis=0)\n",
    "img = preprocess_input(img)\n",
    "feature_maps = model.predict(img)\n",
    "\n",
    "square = 8\n",
    "for fmap in feature_maps:\n",
    "    ix = 1\n",
    "    for _ in range(square):\n",
    "        plt.figure(figsize=(64,64))\n",
    "        for _ in range(square):\n",
    "            ax = pyplot.subplot(square, square, ix)\n",
    "            ax.set_xticks([])\n",
    "            ax.set_yticks([])\n",
    "            plt.imshow(fmap[0, :, :, ix-1], cmap='viridis')\n",
    "            ix += 1\n",
    "        \n",
    "plt.show()"
   ]
  },
  {
   "cell_type": "code",
   "execution_count": null,
   "metadata": {
    "execution": {
     "iopub.execute_input": "2022-09-22T23:05:58.987568Z",
     "iopub.status.busy": "2022-09-22T23:05:58.987285Z",
     "iopub.status.idle": "2022-09-22T23:12:57.682771Z",
     "shell.execute_reply": "2022-09-22T23:12:57.681597Z",
     "shell.execute_reply.started": "2022-09-22T23:05:58.987521Z"
    }
   },
   "outputs": [],
   "source": [
    "import time\n",
    "\n",
    "start = time.time()\n",
    "\n",
    "vgg16_history = vgg16.fit_generator(\n",
    "    train_generator,\n",
    "    steps_per_epoch=50,\n",
    "    epochs=20,\n",
    "    validation_data=validation_generator,\n",
    "    validation_steps=30,\n",
    ")\n",
    "\n",
    "end = time.time()\n",
    "print(end - start)\n"
   ]
  },
  {
   "cell_type": "code",
   "execution_count": null,
   "metadata": {
    "execution": {
     "iopub.execute_input": "2022-09-22T23:12:57.684924Z",
     "iopub.status.busy": "2022-09-22T23:12:57.684152Z",
     "iopub.status.idle": "2022-09-22T23:12:57.731026Z",
     "shell.execute_reply": "2022-09-22T23:12:57.729070Z",
     "shell.execute_reply.started": "2022-09-22T23:12:57.684537Z"
    }
   },
   "outputs": [],
   "source": [
    "\n",
    "predictions = vgg16.predict(X_test_prep)\n",
    "predictions = [1 if x>0.5 else 0 for x in predictions]\n",
    "\n",
    "_, train_acc = vgg16.evaluate(X_val_prep, y_val, verbose=0)\n",
    "_, test_acc = vgg16.evaluate(X_test_prep, y_test, verbose=0)"
   ]
  },
  {
   "cell_type": "code",
   "execution_count": null,
   "metadata": {
    "execution": {
     "iopub.status.busy": "2022-09-22T23:12:57.732408Z",
     "iopub.status.idle": "2022-09-22T23:12:57.733147Z"
    }
   },
   "outputs": [],
   "source": [
    "accuracy = accuracy_score(y_test, predictions)\n",
    "print('Accuracy: %f' % accuracy)\n",
    "precision = precision_score(y_test, predictions)\n",
    "recall = recall_score(y_test, predictions)\n",
    "print('Recall: %f' % recall)\n",
    "f1 = f1_score(y_test, predictions)\n",
    "print('F1 score: %f' % f1)\n",
    "\n",
    "kappa = cohen_kappa_score(y_test, predictions)\n",
    "print('Cohens kappa: %f' % kappa)\n",
    "\n",
    "auc = roc_auc_score(y_test, predictions)\n",
    "print('ROC AUC: %f' % auc)\n",
    "\n",
    "matrix = confusion_matrix(y_test, predictions)\n",
    "print(matrix)\n"
   ]
  },
  {
   "cell_type": "code",
   "execution_count": null,
   "metadata": {
    "execution": {
     "iopub.status.busy": "2022-09-22T23:12:57.734699Z",
     "iopub.status.idle": "2022-09-22T23:12:57.735419Z"
    }
   },
   "outputs": [],
   "source": [
    "pyplot.figure(figsize=(12,12))\n",
    "\n",
    "pyplot.subplot(211)\n",
    "pyplot.title('Vgg16 Loss')\n",
    "pyplot.plot(vgg16_history.history['loss'], label='train')\n",
    "pyplot.plot(vgg16_history.history['val_loss'], label='Validation')\n",
    "pyplot.legend()\n",
    "\n",
    "pyplot.subplot(212)\n",
    "pyplot.title('Vgg16 Accuracy')\n",
    "pyplot.plot(vgg16_history.history['acc'], label='train')\n",
    "pyplot.plot(vgg16_history.history['val_acc'], label='Validation')\n",
    "pyplot.legend()\n",
    "pyplot.show()\n"
   ]
  },
  {
   "cell_type": "code",
   "execution_count": null,
   "metadata": {
    "execution": {
     "iopub.status.busy": "2022-09-22T23:12:57.741288Z",
     "iopub.status.idle": "2022-09-22T23:12:57.742138Z"
    }
   },
   "outputs": [],
   "source": [
    "print('Train: %.3f, Test: %.3f' % (train_acc, test_acc))"
   ]
  },
  {
   "cell_type": "code",
   "execution_count": null,
   "metadata": {
    "execution": {
     "iopub.status.busy": "2022-09-22T23:12:57.743366Z",
     "iopub.status.idle": "2022-09-22T23:12:57.743985Z"
    }
   },
   "outputs": [],
   "source": [
    "def ModelGraphTrainngSummary(history,N,model_name):\n",
    "\n",
    "    sys.stdout.flush()\n",
    "    matplotlib.use(\"Agg\")\n",
    "    matplotlib.pyplot.style.use(\"ggplot\")\n",
    "    matplotlib.pyplot.figure()\n",
    "    matplotlib.pyplot.plot(np.arange(0, N), history.history[\"loss\"], label=\"train_loss\")\n",
    "    matplotlib.pyplot.plot(np.arange(0, N), history.history[\"val_loss\"], label=\"val_loss\")\n",
    "\n",
    "    matplotlib.pyplot.title(\"Training Loss and Accuracy on Brain Tumor Classification\")\n",
    "    matplotlib.pyplot.xlabel(\"Epoch #\")\n",
    "    matplotlib.pyplot.ylabel(\"Loss/Accuracy of \"+model_name)\n",
    "    matplotlib.pyplot.legend(loc=\"lower left\")\n",
    "    matplotlib.pyplot.savefig(\"plot.png\")"
   ]
  },
  {
   "cell_type": "code",
   "execution_count": null,
   "metadata": {
    "execution": {
     "iopub.status.busy": "2022-09-22T23:12:57.745427Z",
     "iopub.status.idle": "2022-09-22T23:12:57.746162Z"
    }
   },
   "outputs": [],
   "source": [
    "def ModelGraphTrainngSummaryAcc(history,N,model_name):\n",
    "\n",
    "    print(\"Generating plots...\")\n",
    "    sys.stdout.flush()\n",
    "    matplotlib.use(\"Agg\")\n",
    "    matplotlib.pyplot.style.use(\"ggplot\")\n",
    "    matplotlib.pyplot.figure()\n",
    "    matplotlib.pyplot.plot(np.arange(0, N), history.history[\"acc\"], label=\"train_acc\")\n",
    "    matplotlib.pyplot.plot(np.arange(0, N), history.history[\"val_acc\"], label=\"val_acc\")\n",
    "    matplotlib.pyplot.title(\"Training Loss and Accuracy on Brain Tumor Classification\")\n",
    "    matplotlib.pyplot.xlabel(\"Epoch #\")\n",
    "    matplotlib.pyplot.ylabel(\"Accuracy of \"+ model_name)\n",
    "    matplotlib.pyplot.legend(loc=\"lower left\")\n",
    "    matplotlib.pyplot.savefig(\"plot.png\")"
   ]
  },
  {
   "cell_type": "code",
   "execution_count": null,
   "metadata": {
    "execution": {
     "iopub.status.busy": "2022-09-22T23:12:57.747363Z",
     "iopub.status.idle": "2022-09-22T23:12:57.752447Z"
    }
   },
   "outputs": [],
   "source": [
    "for x_model in [{'name':'VGG-16','history':history_1,'model':vgg16}]:\n",
    "    ModelGraphTrainngSummary(x_model['history'],120,x_model['name'])\n",
    "    ModelGraphTrainngSummaryAcc(x_model['history'],120,x_model['name'])\n",
    "    \n",
    "    predictions = x_model['model'].predict(X_val_prep)\n",
    "    predictions = [1 if x>0.5 else 0 for x in predictions]\n",
    "\n",
    "    accuracy = accuracy_score(y_val, predictions)\n",
    "    print('Val Accuracy = %.2f' % accuracy)\n",
    "\n",
    "    confusion_mtx = confusion_matrix(y_val, predictions) \n",
    "    cm = plot_confusion_matrix(confusion_mtx, classes = list(labels.items()), normalize=False)"
   ]
  },
  {
   "cell_type": "code",
   "execution_count": null,
   "metadata": {
    "_kg_hide-input": true,
    "execution": {
     "iopub.status.busy": "2022-09-22T23:12:57.753553Z",
     "iopub.status.idle": "2022-09-22T23:12:57.754560Z"
    }
   },
   "outputs": [],
   "source": [
    "!rm -rf TRAIN TEST VAL TRAIN_CROP TEST_CROP VAL_CROP\n",
    "vgg16.save('2023_VGG_model.h5')\n",
    "\n",
    "\n"
   ]
  }
 ],
 "metadata": {
  "kernelspec": {
   "display_name": "Python 3 (ipykernel)",
   "language": "python",
   "name": "python3"
  },
  "language_info": {
   "codemirror_mode": {
    "name": "ipython",
    "version": 3
   },
   "file_extension": ".py",
   "mimetype": "text/x-python",
   "name": "python",
   "nbconvert_exporter": "python",
   "pygments_lexer": "ipython3",
   "version": "3.11.5"
  }
 },
 "nbformat": 4,
 "nbformat_minor": 4
}
